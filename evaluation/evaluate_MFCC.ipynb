{
 "cells": [
  {
   "cell_type": "code",
   "execution_count": 21,
   "metadata": {},
   "outputs": [],
   "source": [
    "import sys\n",
    "import os\n",
    "from git_root import git_root\n",
    "\n",
    "import numpy as np\n",
    "import tensorflow as tf\n",
    "\n",
    "from tensorflow.keras.optimizers import Adam\n",
    "\n",
    "sys.path.append(git_root(\"training\"))\n",
    "from fetch_data import fetch_data_local\n",
    "from fetch_data import to_numpy_arrays, prepare_tf_dataset\n",
    "\n",
    "sys.path.append(git_root(\"models\"))\n",
    "from MFCC_model import setup_model\n",
    "\n",
    "sys.path.append(git_root(\"utils\"))\n",
    "from utils import load_params, load_config\n",
    "\n",
    "from validation_utils import plot_history"
   ]
  },
  {
   "cell_type": "code",
   "execution_count": 22,
   "metadata": {},
   "outputs": [
    {
     "name": "stdout",
     "output_type": "stream",
     "text": [
      "2.0.0\n"
     ]
    }
   ],
   "source": [
    "print(tf.__version__)"
   ]
  },
  {
   "cell_type": "code",
   "execution_count": 23,
   "metadata": {},
   "outputs": [
    {
     "name": "stdout",
     "output_type": "stream",
     "text": [
      "Fetching: data_mfcc_test.json\n"
     ]
    }
   ],
   "source": [
    "df = fetch_data_local(map_type=\"mfcc\", train=False)\n",
    "\n",
    "test = to_numpy_arrays(df, mfcc=True)"
   ]
  },
  {
   "cell_type": "code",
   "execution_count": 24,
   "metadata": {},
   "outputs": [],
   "source": [
    "test_sample_unstacked = []\n",
    "test_label_unstacked = []\n",
    "\n",
    "for j in range(len(test[0])):\n",
    "    test_sample_unstacked += [test[0][j][:,:,i].reshape(40,50,1) for i in range(test[0][0].shape[-1])]\n",
    "\n",
    "for i in range(len(test[1])):\n",
    "    test_label_unstacked += [test[1][i]]*(test[0][0].shape[-1])"
   ]
  },
  {
   "cell_type": "code",
   "execution_count": 25,
   "metadata": {},
   "outputs": [],
   "source": [
    "dataset = prepare_tf_dataset(test_sample_unstacked, test_label_unstacked)"
   ]
  },
  {
   "cell_type": "code",
   "execution_count": 26,
   "metadata": {},
   "outputs": [
    {
     "name": "stdout",
     "output_type": "stream",
     "text": [
      "Saving to: /Users/arnaudstiegler/Desktop/deep-music-classification/evaluation/evaluation_results/results_mfcc.csv\n"
     ]
    }
   ],
   "source": [
    "from tensorflow.keras.models import load_model\n",
    "sys.path.append(git_root(\"models\"))\n",
    "from affine_scalar_layer import AffineScalar\n",
    "import pandas as pd\n",
    "\n",
    "#Fetch the trained model\n",
    "model_path = git_root('models','saved_models',\n",
    "                                  'mfcc.h5')\n",
    "net = load_model(model_path,  custom_objects={'AffineScalar':AffineScalar()})\n",
    "#For some reason, I need to cast my tensor to float32 for predict (and not for fit ?!)\n",
    "#dataset = tf.data.Dataset.from_tensors(tf.dtypes.cast(fetch_format_stacked(train=False), tf.float32))\n",
    "\n",
    "#Generate predictions\n",
    "y = net.predict(dataset)\n",
    "preds = pd.DataFrame(y)\n",
    "preds.columns = [\"class{}\".format(i) for i in range(10)]\n",
    "\n",
    "df = df.merge(preds, left_index=True, right_index=True)\n",
    "df = df.drop(['maps'], axis=1)\n",
    "\n",
    "save_path=git_root(\"evaluation\",\"evaluation_results\",\"results_mfcc.csv\")\n",
    "print(\"Saving to: {}\".format(save_path))\n",
    "df.to_csv(save_path)"
   ]
  },
  {
   "cell_type": "markdown",
   "metadata": {},
   "source": [
    "# Results"
   ]
  },
  {
   "cell_type": "code",
   "execution_count": 27,
   "metadata": {},
   "outputs": [],
   "source": [
    "config = load_config()\n",
    "\n",
    "label_names = config[\"genres\"]\n",
    "label_to_idx = dict((name, index) for index, name in enumerate(label_names))\n",
    "idx_to_label = {v: k for k, v in label_to_idx.items()}\n",
    "\n",
    "class_columns = [\"class{}\".format(i) for i in range(10)]"
   ]
  },
  {
   "cell_type": "markdown",
   "metadata": {},
   "source": [
    "**Per Piece**"
   ]
  },
  {
   "cell_type": "code",
   "execution_count": 28,
   "metadata": {},
   "outputs": [
    {
     "name": "stderr",
     "output_type": "stream",
     "text": [
      "/Users/arnaudstiegler/miniconda3/envs/music_classification/lib/python3.7/site-packages/sklearn/metrics/classification.py:1437: UndefinedMetricWarning: Precision and F-score are ill-defined and being set to 0.0 in labels with no predicted samples.\n",
      "  'precision', 'predicted', average, warn_for)\n"
     ]
    }
   ],
   "source": [
    "from sklearn.metrics import classification_report\n",
    "\n",
    "\n",
    "piece_level_acc = {}\n",
    "piece_level_acc['mfcc']={}\n",
    "\n",
    "\n",
    "filepath=git_root(\"evaluation\",\"evaluation_results\",\"results_mfcc.csv\")\n",
    "df = pd.read_csv(filepath, index_col=0)\n",
    "        \n",
    "#Generate the label by taking highest prob\n",
    "df['pred'] = np.argmax(df[class_columns].values, axis=1)\n",
    "        \n",
    "df['label'] = df['genre'].apply(lambda x: label_to_idx[x])\n",
    "        \n",
    "report = classification_report(df['label'], df['pred'], output_dict=True)\n",
    "piece_level_acc['mfcc']['accuracy'] = report['accuracy']\n",
    "        \n",
    "piece_level_acc['mfcc']['class_precision'] = {}\n",
    "        \n",
    "for i in range(10):\n",
    "    piece_level_acc['mfcc']['class_precision'][idx_to_label[i]] = report[str(i)]['precision']"
   ]
  },
  {
   "cell_type": "code",
   "execution_count": 29,
   "metadata": {},
   "outputs": [],
   "source": [
    "import json\n",
    "\n",
    "#Dump the results\n",
    "with open(git_root('evaluation','evaluation_results','mfcc_piece_level_results.json'), 'w') as fp:\n",
    "    json.dump(piece_level_acc, fp, indent=4)"
   ]
  },
  {
   "cell_type": "markdown",
   "metadata": {},
   "source": [
    "**Per track**"
   ]
  },
  {
   "cell_type": "code",
   "execution_count": 30,
   "metadata": {},
   "outputs": [],
   "source": [
    "#Generate a table that contains mapping (track: genre)\n",
    "track_mapping = df[['filename','genre']].drop_duplicates().reset_index(drop=True)"
   ]
  },
  {
   "cell_type": "code",
   "execution_count": 31,
   "metadata": {},
   "outputs": [
    {
     "name": "stderr",
     "output_type": "stream",
     "text": [
      "/Users/arnaudstiegler/miniconda3/envs/music_classification/lib/python3.7/site-packages/sklearn/metrics/classification.py:1437: UndefinedMetricWarning: Precision and F-score are ill-defined and being set to 0.0 in labels with no predicted samples.\n",
      "  'precision', 'predicted', average, warn_for)\n"
     ]
    }
   ],
   "source": [
    "track_level_acc = {}\n",
    "\n",
    "track_level_acc['mfcc'] = {}\n",
    "\n",
    "\n",
    "filepath=git_root(\"evaluation\",\"evaluation_results\",\"results_mfcc.csv\")\n",
    "df = pd.read_csv(filepath, index_col=0)\n",
    "#Group by track to get track_level probs\n",
    "#Note that we SUM the probs (rather than AVG them)\n",
    "df_per_track = df.groupby('filename').sum()\n",
    "#Label is the highest prob\n",
    "df_per_track['pred'] = np.argmax(df_per_track[class_columns].values, axis=1)\n",
    "#Merge back to get the track_names\n",
    "df_result = df_per_track.merge(track_mapping, on='filename')\n",
    "df_result['label'] = df_result['genre'].apply(lambda x: label_to_idx[x])\n",
    "        \n",
    "report = classification_report(df_result['label'], df_result['pred'], output_dict=True)\n",
    "track_level_acc['mfcc']['accuracy'] = report['accuracy']\n",
    "        \n",
    "track_level_acc['mfcc']['class_precision'] = {}\n",
    "        \n",
    "for i in range(10):\n",
    "    track_level_acc['mfcc']['class_precision'][idx_to_label[i]] = report[str(i)]['precision']"
   ]
  },
  {
   "cell_type": "code",
   "execution_count": 32,
   "metadata": {},
   "outputs": [],
   "source": [
    "#Dump the results\n",
    "with open(git_root('evaluation','evaluation_results','mfcc_track_level_results.json'), 'w') as fp:\n",
    "    json.dump(track_level_acc, fp, indent=4)"
   ]
  }
 ],
 "metadata": {
  "kernelspec": {
   "display_name": "Python [conda env:music_classification]",
   "language": "python",
   "name": "conda-env-music_classification-py"
  },
  "language_info": {
   "codemirror_mode": {
    "name": "ipython",
    "version": 3
   },
   "file_extension": ".py",
   "mimetype": "text/x-python",
   "name": "python",
   "nbconvert_exporter": "python",
   "pygments_lexer": "ipython3",
   "version": "3.7.5"
  }
 },
 "nbformat": 4,
 "nbformat_minor": 2
}
