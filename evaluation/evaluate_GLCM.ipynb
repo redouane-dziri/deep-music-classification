{
 "cells": [
  {
   "cell_type": "code",
   "execution_count": 1,
   "metadata": {},
   "outputs": [
    {
     "name": "stdout",
     "output_type": "stream",
     "text": [
      "2.0.0\n"
     ]
    }
   ],
   "source": [
    "import sys\n",
    "import os\n",
    "from git_root import git_root\n",
    "\n",
    "import numpy as np\n",
    "import pandas as pd\n",
    "import tensorflow as tf\n",
    "\n",
    "sys.path.append(git_root(\"utils\"))\n",
    "from utils import load_params, load_config\n",
    "\n",
    "sys.path.append(git_root(\"training\"))\n",
    "from fetch_data import fetch_data_local, fetch_format_stacked\n",
    "from fetch_data import to_numpy_arrays, prepare_tf_dataset\n",
    "\n",
    "import json\n",
    "\n",
    "print(tf.__version__)"
   ]
  },
  {
   "cell_type": "markdown",
   "metadata": {},
   "source": [
    "# Generating the predictions for the test sets"
   ]
  },
  {
   "cell_type": "code",
   "execution_count": 2,
   "metadata": {},
   "outputs": [],
   "source": [
    "params = load_params()\n",
    "\n",
    "angles = params[\"GLCM\"][\"mel_map\"][\"angles_in_deg\"]\n",
    "\n",
    "place_holder = {\n",
    "    \"spectrogram\": {0: []},\n",
    "    \"mel_map\": {\n",
    "        angle: [] for angle in angles\n",
    "    }\n",
    "}"
   ]
  },
  {
   "cell_type": "code",
   "execution_count": 3,
   "metadata": {
    "scrolled": true
   },
   "outputs": [
    {
     "name": "stdout",
     "output_type": "stream",
     "text": [
      "Fetching: data_spectrogram_angle_0_test.json\n",
      "Saving to: /Users/arnaudstiegler/Desktop/deep-music-classification/evaluation/evaluation_results/results_spectrogram_0.csv\n",
      "Fetching: data_mel_map_angle_0_test.json\n",
      "Saving to: /Users/arnaudstiegler/Desktop/deep-music-classification/evaluation/evaluation_results/results_mel_map_0.csv\n",
      "Fetching: data_mel_map_angle_45_test.json\n",
      "Saving to: /Users/arnaudstiegler/Desktop/deep-music-classification/evaluation/evaluation_results/results_mel_map_45.csv\n",
      "Fetching: data_mel_map_angle_90_test.json\n",
      "Saving to: /Users/arnaudstiegler/Desktop/deep-music-classification/evaluation/evaluation_results/results_mel_map_90.csv\n",
      "Fetching: data_mel_map_angle_135_test.json\n",
      "Saving to: /Users/arnaudstiegler/Desktop/deep-music-classification/evaluation/evaluation_results/results_mel_map_135.csv\n"
     ]
    }
   ],
   "source": [
    "from tensorflow.keras.models import load_model\n",
    "sys.path.append(git_root(\"models\"))\n",
    "from affine_scalar_layer import AffineScalar\n",
    "\n",
    "\n",
    "mapping_for_saved_models = {'spectrogram': 'spec',\n",
    "                           'mel_map': 'mel'}\n",
    "\n",
    "for map_type in place_holder:\n",
    "    for angle in place_holder[map_type]:\n",
    "        #Fetch the data\n",
    "        df = fetch_data_local(\n",
    "            map_type=map_type, train=False, angle=angle\n",
    "        )\n",
    "        #Fetch the trained model\n",
    "        model_path = git_root('models','saved_models',\n",
    "                                  'glcm_{}_angle{}.h5'.format(mapping_for_saved_models[map_type],angle))\n",
    "        net = load_model(model_path,  custom_objects={'AffineScalar':AffineScalar()})\n",
    "        #For some reason, I need to cast my tensor to float32 for predict (and not for fit ?!)\n",
    "        dataset = tf.data.Dataset.from_tensors(tf.dtypes.cast(to_numpy_arrays(df)[0], tf.float32))\n",
    "        #Generate predictions\n",
    "        y = net.predict(dataset)\n",
    "        preds = pd.DataFrame(y)\n",
    "        preds.columns = [\"class{}\".format(i) for i in range(10)]\n",
    "        \n",
    "        #Concatenate the prediction to our dataset\n",
    "        df = df.merge(preds, left_index=True, right_index=True)\n",
    "        df = df.drop(['maps'], axis=1)\n",
    "        \n",
    "        save_path=git_root(\"evaluation\",\"evaluation_results\",\"results_{}_{}.csv\".format(map_type,angle))\n",
    "        print(\"Saving to: {}\".format(save_path))\n",
    "        df.to_csv(save_path)"
   ]
  },
  {
   "cell_type": "code",
   "execution_count": 4,
   "metadata": {},
   "outputs": [
    {
     "name": "stdout",
     "output_type": "stream",
     "text": [
      "Fetching: data_mel_map_angle_0_test.json\n",
      "Fetching: data_mel_map_angle_45_test.json\n",
      "Fetching: data_mel_map_angle_90_test.json\n",
      "Fetching: data_mel_map_angle_135_test.json\n"
     ]
    }
   ],
   "source": [
    "#Temporary list to stack the mel-maps\n",
    "temp = []\n",
    "\n",
    "for i in range(len(angles)):\n",
    "    temp.append(fetch_data_local(\n",
    "            map_type='mel_map', train=False, angle=angles[i]\n",
    "        )['maps'])\n",
    "\n",
    "stacked_mel_maps = (\n",
    "    [\n",
    "        np.stack([\n",
    "            np.squeeze(temp[j][i]) for j in range(len(angles))\n",
    "        ], -1) for i in range(1400)\n",
    "    ]\n",
    ")"
   ]
  },
  {
   "cell_type": "code",
   "execution_count": 5,
   "metadata": {},
   "outputs": [
    {
     "name": "stdout",
     "output_type": "stream",
     "text": [
      "Fetching: data_mel_map_angle_0_test.json\n",
      "Saving to: /Users/arnaudstiegler/Desktop/deep-music-classification/evaluation/evaluation_results/results_mel_map_stacked.csv\n"
     ]
    }
   ],
   "source": [
    "#For stacked model\n",
    "\n",
    "#Fetch the trained model\n",
    "model_path = git_root('models','saved_models',\n",
    "                                  'glcm_{}_stacked.h5'.format(mapping_for_saved_models['mel_map']))\n",
    "net = load_model(model_path,  custom_objects={'AffineScalar':AffineScalar()})\n",
    "#For some reason, I need to cast my tensor to float32 for predict (and not for fit ?!)\n",
    "#dataset = tf.data.Dataset.from_tensors(tf.dtypes.cast(fetch_format_stacked(train=False), tf.float32))\n",
    "dataset = tf.data.Dataset.from_tensor_slices(tf.dtypes.cast(stacked_mel_maps, tf.float32)).batch(32)\n",
    "#Generate predictions\n",
    "y = net.predict(dataset)\n",
    "preds = pd.DataFrame(y)\n",
    "preds.columns = [\"class{}\".format(i) for i in range(10)]\n",
    "        \n",
    "#Concatenate the prediction to our dataset\n",
    "df = fetch_data_local(map_type='mel_map', train=False, angle='0').loc[:,['filename','split_id','genre']].merge(preds,left_index=True, right_index=True)\n",
    "        \n",
    "save_path=git_root(\"evaluation\",\"evaluation_results\",\"results_{}_{}.csv\".format('mel_map','stacked'))\n",
    "print(\"Saving to: {}\".format(save_path))\n",
    "df.to_csv(save_path)"
   ]
  },
  {
   "cell_type": "markdown",
   "metadata": {},
   "source": [
    "# Results for Reference Models"
   ]
  },
  {
   "cell_type": "code",
   "execution_count": 6,
   "metadata": {},
   "outputs": [],
   "source": [
    "config = load_config()\n",
    "\n",
    "label_names = config[\"genres\"]\n",
    "label_to_idx = dict((name, index) for index, name in enumerate(label_names))\n",
    "idx_to_label = {v: k for k, v in label_to_idx.items()}\n",
    "\n",
    "class_columns = [\"class{}\".format(i) for i in range(10)]"
   ]
  },
  {
   "cell_type": "code",
   "execution_count": 7,
   "metadata": {},
   "outputs": [
    {
     "data": {
      "text/plain": [
       "{0: 'blues',\n",
       " 1: 'classical',\n",
       " 2: 'country',\n",
       " 3: 'disco',\n",
       " 4: 'hiphop',\n",
       " 5: 'jazz',\n",
       " 6: 'metal',\n",
       " 7: 'pop',\n",
       " 8: 'reggae',\n",
       " 9: 'rock'}"
      ]
     },
     "execution_count": 7,
     "metadata": {},
     "output_type": "execute_result"
    }
   ],
   "source": [
    "idx_to_label"
   ]
  },
  {
   "cell_type": "markdown",
   "metadata": {},
   "source": [
    "## Piece-level Results"
   ]
  },
  {
   "cell_type": "code",
   "execution_count": 8,
   "metadata": {},
   "outputs": [],
   "source": [
    "from sklearn.metrics import classification_report\n",
    "\n",
    "piece_level_acc = {\"spectrogram\": {0: {}},\n",
    "    \"mel_map\": {\n",
    "        angle: {} for angle in angles\n",
    "    }}\n",
    "\n",
    "piece_level_acc['mel_map']['stacked'] = {}\n",
    "\n",
    "for map_type in piece_level_acc:\n",
    "    for angle in piece_level_acc[map_type]:\n",
    "        filepath=git_root(\"evaluation\",\"evaluation_results\",\"results_{}_{}.csv\".format(map_type,angle))\n",
    "        df = pd.read_csv(filepath, index_col=0)\n",
    "        \n",
    "        #Generate the label by taking highest prob\n",
    "        df['pred'] = np.argmax(df[class_columns].values, axis=1)\n",
    "        \n",
    "        df['label'] = df['genre'].apply(lambda x: label_to_idx[x])\n",
    "        \n",
    "        report = classification_report(df['label'], df['pred'], output_dict=True)\n",
    "        piece_level_acc[map_type][angle]['accuracy'] = report['accuracy']\n",
    "        \n",
    "        piece_level_acc[map_type][angle]['class_precision'] = {}\n",
    "        piece_level_acc[map_type][angle]['class_recall'] = {}\n",
    "        \n",
    "        for i in range(10):\n",
    "            piece_level_acc[map_type][angle]['class_precision'][idx_to_label[i]] = report[str(i)]['precision']\n",
    "            piece_level_acc[map_type][angle]['class_recall'][idx_to_label[i]] = report[str(i)]['recall']"
   ]
  },
  {
   "cell_type": "markdown",
   "metadata": {},
   "source": [
    "### Piece-level accuracy for Mel-maps"
   ]
  },
  {
   "cell_type": "code",
   "execution_count": 9,
   "metadata": {},
   "outputs": [
    {
     "data": {
      "text/plain": [
       "0          0.437857\n",
       "45         0.402143\n",
       "90         0.383571\n",
       "135        0.402857\n",
       "stacked    0.439286\n",
       "Name: accuracy, dtype: object"
      ]
     },
     "execution_count": 9,
     "metadata": {},
     "output_type": "execute_result"
    }
   ],
   "source": [
    "pd.DataFrame(piece_level_acc['mel_map']).T['accuracy']"
   ]
  },
  {
   "cell_type": "markdown",
   "metadata": {},
   "source": [
    "### Piece-level accuracy for spectrogram"
   ]
  },
  {
   "cell_type": "code",
   "execution_count": 10,
   "metadata": {},
   "outputs": [
    {
     "data": {
      "text/plain": [
       "0    0.464286\n",
       "Name: accuracy, dtype: object"
      ]
     },
     "execution_count": 10,
     "metadata": {},
     "output_type": "execute_result"
    }
   ],
   "source": [
    "pd.DataFrame(piece_level_acc['spectrogram']).T['accuracy']"
   ]
  },
  {
   "cell_type": "markdown",
   "metadata": {},
   "source": [
    "### Piece-level precision per genre for mel-maps"
   ]
  },
  {
   "cell_type": "code",
   "execution_count": 11,
   "metadata": {},
   "outputs": [
    {
     "data": {
      "text/html": [
       "<div>\n",
       "<style scoped>\n",
       "    .dataframe tbody tr th:only-of-type {\n",
       "        vertical-align: middle;\n",
       "    }\n",
       "\n",
       "    .dataframe tbody tr th {\n",
       "        vertical-align: top;\n",
       "    }\n",
       "\n",
       "    .dataframe thead th {\n",
       "        text-align: right;\n",
       "    }\n",
       "</style>\n",
       "<table border=\"1\" class=\"dataframe\">\n",
       "  <thead>\n",
       "    <tr style=\"text-align: right;\">\n",
       "      <th></th>\n",
       "      <th>blues</th>\n",
       "      <th>classical</th>\n",
       "      <th>country</th>\n",
       "      <th>disco</th>\n",
       "      <th>hiphop</th>\n",
       "      <th>jazz</th>\n",
       "      <th>metal</th>\n",
       "      <th>pop</th>\n",
       "      <th>reggae</th>\n",
       "      <th>rock</th>\n",
       "    </tr>\n",
       "    <tr>\n",
       "      <th>angle</th>\n",
       "      <th></th>\n",
       "      <th></th>\n",
       "      <th></th>\n",
       "      <th></th>\n",
       "      <th></th>\n",
       "      <th></th>\n",
       "      <th></th>\n",
       "      <th></th>\n",
       "      <th></th>\n",
       "      <th></th>\n",
       "    </tr>\n",
       "  </thead>\n",
       "  <tbody>\n",
       "    <tr>\n",
       "      <th>0</th>\n",
       "      <td>0.619048</td>\n",
       "      <td>0.729730</td>\n",
       "      <td>0.369748</td>\n",
       "      <td>0.346154</td>\n",
       "      <td>0.281250</td>\n",
       "      <td>0.402778</td>\n",
       "      <td>0.729730</td>\n",
       "      <td>0.343849</td>\n",
       "      <td>0.383420</td>\n",
       "      <td>0.183206</td>\n",
       "    </tr>\n",
       "    <tr>\n",
       "      <th>45</th>\n",
       "      <td>0.490566</td>\n",
       "      <td>0.614865</td>\n",
       "      <td>0.257143</td>\n",
       "      <td>0.234043</td>\n",
       "      <td>0.250000</td>\n",
       "      <td>0.394366</td>\n",
       "      <td>0.759259</td>\n",
       "      <td>0.377850</td>\n",
       "      <td>0.355828</td>\n",
       "      <td>0.156716</td>\n",
       "    </tr>\n",
       "    <tr>\n",
       "      <th>90</th>\n",
       "      <td>0.514706</td>\n",
       "      <td>0.669492</td>\n",
       "      <td>0.280000</td>\n",
       "      <td>0.164384</td>\n",
       "      <td>0.217054</td>\n",
       "      <td>0.370588</td>\n",
       "      <td>0.707143</td>\n",
       "      <td>0.372611</td>\n",
       "      <td>0.364238</td>\n",
       "      <td>0.172840</td>\n",
       "    </tr>\n",
       "    <tr>\n",
       "      <th>135</th>\n",
       "      <td>0.521739</td>\n",
       "      <td>0.647436</td>\n",
       "      <td>0.339130</td>\n",
       "      <td>0.260870</td>\n",
       "      <td>0.145455</td>\n",
       "      <td>0.398810</td>\n",
       "      <td>0.761589</td>\n",
       "      <td>0.310897</td>\n",
       "      <td>0.333333</td>\n",
       "      <td>0.224138</td>\n",
       "    </tr>\n",
       "    <tr>\n",
       "      <th>stacked</th>\n",
       "      <td>0.441860</td>\n",
       "      <td>0.685535</td>\n",
       "      <td>0.369128</td>\n",
       "      <td>0.473684</td>\n",
       "      <td>0.425287</td>\n",
       "      <td>0.432203</td>\n",
       "      <td>0.707792</td>\n",
       "      <td>0.358974</td>\n",
       "      <td>0.366667</td>\n",
       "      <td>0.112245</td>\n",
       "    </tr>\n",
       "  </tbody>\n",
       "</table>\n",
       "</div>"
      ],
      "text/plain": [
       "            blues  classical   country     disco    hiphop      jazz  \\\n",
       "angle                                                                  \n",
       "0        0.619048   0.729730  0.369748  0.346154  0.281250  0.402778   \n",
       "45       0.490566   0.614865  0.257143  0.234043  0.250000  0.394366   \n",
       "90       0.514706   0.669492  0.280000  0.164384  0.217054  0.370588   \n",
       "135      0.521739   0.647436  0.339130  0.260870  0.145455  0.398810   \n",
       "stacked  0.441860   0.685535  0.369128  0.473684  0.425287  0.432203   \n",
       "\n",
       "            metal       pop    reggae      rock  \n",
       "angle                                            \n",
       "0        0.729730  0.343849  0.383420  0.183206  \n",
       "45       0.759259  0.377850  0.355828  0.156716  \n",
       "90       0.707143  0.372611  0.364238  0.172840  \n",
       "135      0.761589  0.310897  0.333333  0.224138  \n",
       "stacked  0.707792  0.358974  0.366667  0.112245  "
      ]
     },
     "execution_count": 11,
     "metadata": {},
     "output_type": "execute_result"
    }
   ],
   "source": [
    "x = []\n",
    "for angle in piece_level_acc[map_type]:\n",
    "    x.append(piece_level_acc['mel_map'][angle]['class_precision'])\n",
    "    \n",
    "piece_level_mel_maps = pd.DataFrame(x)\n",
    "piece_level_mel_maps['angle'] = pd.Series(['0','45','90','135','stacked'])\n",
    "piece_level_mel_maps.set_index('angle', inplace=True)\n",
    "piece_level_mel_maps"
   ]
  },
  {
   "cell_type": "markdown",
   "metadata": {},
   "source": [
    "### Piece-level recall per genre for mel-maps"
   ]
  },
  {
   "cell_type": "code",
   "execution_count": 12,
   "metadata": {},
   "outputs": [
    {
     "data": {
      "text/html": [
       "<div>\n",
       "<style scoped>\n",
       "    .dataframe tbody tr th:only-of-type {\n",
       "        vertical-align: middle;\n",
       "    }\n",
       "\n",
       "    .dataframe tbody tr th {\n",
       "        vertical-align: top;\n",
       "    }\n",
       "\n",
       "    .dataframe thead th {\n",
       "        text-align: right;\n",
       "    }\n",
       "</style>\n",
       "<table border=\"1\" class=\"dataframe\">\n",
       "  <thead>\n",
       "    <tr style=\"text-align: right;\">\n",
       "      <th></th>\n",
       "      <th>blues</th>\n",
       "      <th>classical</th>\n",
       "      <th>country</th>\n",
       "      <th>disco</th>\n",
       "      <th>hiphop</th>\n",
       "      <th>jazz</th>\n",
       "      <th>metal</th>\n",
       "      <th>pop</th>\n",
       "      <th>reggae</th>\n",
       "      <th>rock</th>\n",
       "    </tr>\n",
       "    <tr>\n",
       "      <th>angle</th>\n",
       "      <th></th>\n",
       "      <th></th>\n",
       "      <th></th>\n",
       "      <th></th>\n",
       "      <th></th>\n",
       "      <th></th>\n",
       "      <th></th>\n",
       "      <th></th>\n",
       "      <th></th>\n",
       "      <th></th>\n",
       "    </tr>\n",
       "  </thead>\n",
       "  <tbody>\n",
       "    <tr>\n",
       "      <th>0</th>\n",
       "      <td>0.371429</td>\n",
       "      <td>0.771429</td>\n",
       "      <td>0.314286</td>\n",
       "      <td>0.128571</td>\n",
       "      <td>0.128571</td>\n",
       "      <td>0.414286</td>\n",
       "      <td>0.771429</td>\n",
       "      <td>0.778571</td>\n",
       "      <td>0.528571</td>\n",
       "      <td>0.171429</td>\n",
       "    </tr>\n",
       "    <tr>\n",
       "      <th>45</th>\n",
       "      <td>0.185714</td>\n",
       "      <td>0.650000</td>\n",
       "      <td>0.192857</td>\n",
       "      <td>0.157143</td>\n",
       "      <td>0.164286</td>\n",
       "      <td>0.400000</td>\n",
       "      <td>0.878571</td>\n",
       "      <td>0.828571</td>\n",
       "      <td>0.414286</td>\n",
       "      <td>0.150000</td>\n",
       "    </tr>\n",
       "    <tr>\n",
       "      <th>90</th>\n",
       "      <td>0.250000</td>\n",
       "      <td>0.564286</td>\n",
       "      <td>0.150000</td>\n",
       "      <td>0.085714</td>\n",
       "      <td>0.200000</td>\n",
       "      <td>0.450000</td>\n",
       "      <td>0.707143</td>\n",
       "      <td>0.835714</td>\n",
       "      <td>0.392857</td>\n",
       "      <td>0.200000</td>\n",
       "    </tr>\n",
       "    <tr>\n",
       "      <th>135</th>\n",
       "      <td>0.171429</td>\n",
       "      <td>0.721429</td>\n",
       "      <td>0.278571</td>\n",
       "      <td>0.171429</td>\n",
       "      <td>0.057143</td>\n",
       "      <td>0.478571</td>\n",
       "      <td>0.821429</td>\n",
       "      <td>0.692857</td>\n",
       "      <td>0.450000</td>\n",
       "      <td>0.185714</td>\n",
       "    </tr>\n",
       "    <tr>\n",
       "      <th>stacked</th>\n",
       "      <td>0.271429</td>\n",
       "      <td>0.778571</td>\n",
       "      <td>0.392857</td>\n",
       "      <td>0.192857</td>\n",
       "      <td>0.264286</td>\n",
       "      <td>0.364286</td>\n",
       "      <td>0.778571</td>\n",
       "      <td>0.800000</td>\n",
       "      <td>0.471429</td>\n",
       "      <td>0.078571</td>\n",
       "    </tr>\n",
       "  </tbody>\n",
       "</table>\n",
       "</div>"
      ],
      "text/plain": [
       "            blues  classical   country     disco    hiphop      jazz  \\\n",
       "angle                                                                  \n",
       "0        0.371429   0.771429  0.314286  0.128571  0.128571  0.414286   \n",
       "45       0.185714   0.650000  0.192857  0.157143  0.164286  0.400000   \n",
       "90       0.250000   0.564286  0.150000  0.085714  0.200000  0.450000   \n",
       "135      0.171429   0.721429  0.278571  0.171429  0.057143  0.478571   \n",
       "stacked  0.271429   0.778571  0.392857  0.192857  0.264286  0.364286   \n",
       "\n",
       "            metal       pop    reggae      rock  \n",
       "angle                                            \n",
       "0        0.771429  0.778571  0.528571  0.171429  \n",
       "45       0.878571  0.828571  0.414286  0.150000  \n",
       "90       0.707143  0.835714  0.392857  0.200000  \n",
       "135      0.821429  0.692857  0.450000  0.185714  \n",
       "stacked  0.778571  0.800000  0.471429  0.078571  "
      ]
     },
     "execution_count": 12,
     "metadata": {},
     "output_type": "execute_result"
    }
   ],
   "source": [
    "x = []\n",
    "for angle in piece_level_acc[map_type]:\n",
    "    x.append(piece_level_acc['mel_map'][angle]['class_recall'])\n",
    "    \n",
    "piece_level_mel_maps = pd.DataFrame(x)\n",
    "piece_level_mel_maps['angle'] = pd.Series(['0','45','90','135','stacked'])\n",
    "piece_level_mel_maps.set_index('angle', inplace=True)\n",
    "piece_level_mel_maps"
   ]
  },
  {
   "cell_type": "markdown",
   "metadata": {},
   "source": [
    "### Piece-level precision per genre for spectrograms"
   ]
  },
  {
   "cell_type": "code",
   "execution_count": 13,
   "metadata": {},
   "outputs": [
    {
     "data": {
      "text/plain": [
       "blues        0.500000\n",
       "classical    0.843537\n",
       "country      0.458333\n",
       "disco        0.339450\n",
       "hiphop       0.263158\n",
       "jazz         0.460674\n",
       "metal        0.793548\n",
       "pop          0.368078\n",
       "reggae       0.413265\n",
       "rock         0.120000\n",
       "dtype: float64"
      ]
     },
     "execution_count": 13,
     "metadata": {},
     "output_type": "execute_result"
    }
   ],
   "source": [
    "pd.Series(piece_level_acc['spectrogram'][0]['class_precision'])"
   ]
  },
  {
   "cell_type": "markdown",
   "metadata": {},
   "source": [
    "### Piece-level recall per genre for spectrograms"
   ]
  },
  {
   "cell_type": "code",
   "execution_count": 14,
   "metadata": {},
   "outputs": [
    {
     "data": {
      "text/plain": [
       "blues        0.192857\n",
       "classical    0.885714\n",
       "country      0.235714\n",
       "disco        0.264286\n",
       "hiphop       0.107143\n",
       "jazz         0.585714\n",
       "metal        0.878571\n",
       "pop          0.807143\n",
       "reggae       0.578571\n",
       "rock         0.107143\n",
       "dtype: float64"
      ]
     },
     "execution_count": 14,
     "metadata": {},
     "output_type": "execute_result"
    }
   ],
   "source": [
    "pd.Series(piece_level_acc['spectrogram'][0]['class_recall'])"
   ]
  },
  {
   "cell_type": "code",
   "execution_count": 15,
   "metadata": {},
   "outputs": [],
   "source": [
    "#Dump the results\n",
    "with open(git_root('evaluation','evaluation_results','glcm_piece_level_results.json'), 'w') as fp:\n",
    "    json.dump(piece_level_acc, fp, indent=4)"
   ]
  },
  {
   "cell_type": "markdown",
   "metadata": {},
   "source": [
    "## Track-level Results"
   ]
  },
  {
   "cell_type": "code",
   "execution_count": 16,
   "metadata": {},
   "outputs": [],
   "source": [
    "#Generate a table that contains mapping (track: genre)\n",
    "track_mapping = df[['filename','genre']].drop_duplicates().reset_index(drop=True)"
   ]
  },
  {
   "cell_type": "code",
   "execution_count": 17,
   "metadata": {},
   "outputs": [],
   "source": [
    "track_level_acc = {\"spectrogram\": {0: {}},\n",
    "    \"mel_map\": {\n",
    "        angle: {} for angle in angles\n",
    "    }}\n",
    "\n",
    "track_level_acc['mel_map']['stacked'] = {}\n",
    "\n",
    "for map_type in track_level_acc:\n",
    "    for angle in track_level_acc[map_type]:\n",
    "        filepath=git_root(\"evaluation\",\"evaluation_results\",\"results_{}_{}.csv\".format(map_type,angle))\n",
    "        df = pd.read_csv(filepath, index_col=0)\n",
    "        #Group by track to get track_level probs\n",
    "        #Note that we SUM the probs (rather than AVG them)\n",
    "        df_per_track = df.groupby('filename').sum()\n",
    "        #Label is the highest prob\n",
    "        df_per_track['pred'] = np.argmax(df_per_track[class_columns].values, axis=1)\n",
    "        #Merge back to get the track_names\n",
    "        df_result = df_per_track.merge(track_mapping, on='filename')\n",
    "        df_result['label'] = df_result['genre'].apply(lambda x: label_to_idx[x])\n",
    "        \n",
    "        report = classification_report(df_result['label'], df_result['pred'], output_dict=True)\n",
    "        track_level_acc[map_type][angle]['accuracy'] = report['accuracy']\n",
    "        \n",
    "        track_level_acc[map_type][angle]['class_precision'] = {}\n",
    "        track_level_acc[map_type][angle]['class_recall'] = {}\n",
    "        \n",
    "        for i in range(10):\n",
    "            track_level_acc[map_type][angle]['class_precision'][idx_to_label[i]] = report[str(i)]['precision']\n",
    "            track_level_acc[map_type][angle]['class_recall'][idx_to_label[i]] = report[str(i)]['recall']"
   ]
  },
  {
   "cell_type": "markdown",
   "metadata": {},
   "source": [
    "### Track-level accuracy for Mel-maps"
   ]
  },
  {
   "cell_type": "code",
   "execution_count": 18,
   "metadata": {},
   "outputs": [
    {
     "data": {
      "text/plain": [
       "0          0.52\n",
       "45         0.42\n",
       "90         0.41\n",
       "135        0.46\n",
       "stacked     0.5\n",
       "Name: accuracy, dtype: object"
      ]
     },
     "execution_count": 18,
     "metadata": {},
     "output_type": "execute_result"
    }
   ],
   "source": [
    "pd.DataFrame(track_level_acc['mel_map']).T['accuracy']"
   ]
  },
  {
   "cell_type": "markdown",
   "metadata": {},
   "source": [
    "### Track-level accuracy for spectrogram"
   ]
  },
  {
   "cell_type": "code",
   "execution_count": 19,
   "metadata": {},
   "outputs": [
    {
     "data": {
      "text/plain": [
       "0    0.5\n",
       "Name: accuracy, dtype: object"
      ]
     },
     "execution_count": 19,
     "metadata": {},
     "output_type": "execute_result"
    }
   ],
   "source": [
    "pd.DataFrame(track_level_acc['spectrogram']).T['accuracy']"
   ]
  },
  {
   "cell_type": "markdown",
   "metadata": {},
   "source": [
    "### Track-level precision per genre for mel-maps"
   ]
  },
  {
   "cell_type": "code",
   "execution_count": 20,
   "metadata": {},
   "outputs": [
    {
     "data": {
      "text/html": [
       "<div>\n",
       "<style scoped>\n",
       "    .dataframe tbody tr th:only-of-type {\n",
       "        vertical-align: middle;\n",
       "    }\n",
       "\n",
       "    .dataframe tbody tr th {\n",
       "        vertical-align: top;\n",
       "    }\n",
       "\n",
       "    .dataframe thead th {\n",
       "        text-align: right;\n",
       "    }\n",
       "</style>\n",
       "<table border=\"1\" class=\"dataframe\">\n",
       "  <thead>\n",
       "    <tr style=\"text-align: right;\">\n",
       "      <th></th>\n",
       "      <th>blues</th>\n",
       "      <th>classical</th>\n",
       "      <th>country</th>\n",
       "      <th>disco</th>\n",
       "      <th>hiphop</th>\n",
       "      <th>jazz</th>\n",
       "      <th>metal</th>\n",
       "      <th>pop</th>\n",
       "      <th>reggae</th>\n",
       "      <th>rock</th>\n",
       "    </tr>\n",
       "    <tr>\n",
       "      <th>angle</th>\n",
       "      <th></th>\n",
       "      <th></th>\n",
       "      <th></th>\n",
       "      <th></th>\n",
       "      <th></th>\n",
       "      <th></th>\n",
       "      <th></th>\n",
       "      <th></th>\n",
       "      <th></th>\n",
       "      <th></th>\n",
       "    </tr>\n",
       "  </thead>\n",
       "  <tbody>\n",
       "    <tr>\n",
       "      <th>0</th>\n",
       "      <td>0.833333</td>\n",
       "      <td>0.818182</td>\n",
       "      <td>0.500000</td>\n",
       "      <td>0.500000</td>\n",
       "      <td>0.333333</td>\n",
       "      <td>0.545455</td>\n",
       "      <td>0.769231</td>\n",
       "      <td>0.307692</td>\n",
       "      <td>0.428571</td>\n",
       "      <td>0.250000</td>\n",
       "    </tr>\n",
       "    <tr>\n",
       "      <th>45</th>\n",
       "      <td>0.500000</td>\n",
       "      <td>0.615385</td>\n",
       "      <td>0.200000</td>\n",
       "      <td>0.200000</td>\n",
       "      <td>0.200000</td>\n",
       "      <td>0.500000</td>\n",
       "      <td>0.769231</td>\n",
       "      <td>0.360000</td>\n",
       "      <td>0.416667</td>\n",
       "      <td>0.100000</td>\n",
       "    </tr>\n",
       "    <tr>\n",
       "      <th>90</th>\n",
       "      <td>0.333333</td>\n",
       "      <td>0.666667</td>\n",
       "      <td>0.000000</td>\n",
       "      <td>0.166667</td>\n",
       "      <td>0.272727</td>\n",
       "      <td>0.500000</td>\n",
       "      <td>0.692308</td>\n",
       "      <td>0.375000</td>\n",
       "      <td>0.375000</td>\n",
       "      <td>0.111111</td>\n",
       "    </tr>\n",
       "    <tr>\n",
       "      <th>135</th>\n",
       "      <td>0.500000</td>\n",
       "      <td>0.692308</td>\n",
       "      <td>0.500000</td>\n",
       "      <td>0.285714</td>\n",
       "      <td>0.000000</td>\n",
       "      <td>0.500000</td>\n",
       "      <td>0.769231</td>\n",
       "      <td>0.347826</td>\n",
       "      <td>0.333333</td>\n",
       "      <td>0.200000</td>\n",
       "    </tr>\n",
       "    <tr>\n",
       "      <th>stacked</th>\n",
       "      <td>0.600000</td>\n",
       "      <td>0.600000</td>\n",
       "      <td>0.444444</td>\n",
       "      <td>0.666667</td>\n",
       "      <td>0.600000</td>\n",
       "      <td>0.500000</td>\n",
       "      <td>0.769231</td>\n",
       "      <td>0.320000</td>\n",
       "      <td>0.500000</td>\n",
       "      <td>0.200000</td>\n",
       "    </tr>\n",
       "  </tbody>\n",
       "</table>\n",
       "</div>"
      ],
      "text/plain": [
       "            blues  classical   country     disco    hiphop      jazz  \\\n",
       "angle                                                                  \n",
       "0        0.833333   0.818182  0.500000  0.500000  0.333333  0.545455   \n",
       "45       0.500000   0.615385  0.200000  0.200000  0.200000  0.500000   \n",
       "90       0.333333   0.666667  0.000000  0.166667  0.272727  0.500000   \n",
       "135      0.500000   0.692308  0.500000  0.285714  0.000000  0.500000   \n",
       "stacked  0.600000   0.600000  0.444444  0.666667  0.600000  0.500000   \n",
       "\n",
       "            metal       pop    reggae      rock  \n",
       "angle                                            \n",
       "0        0.769231  0.307692  0.428571  0.250000  \n",
       "45       0.769231  0.360000  0.416667  0.100000  \n",
       "90       0.692308  0.375000  0.375000  0.111111  \n",
       "135      0.769231  0.347826  0.333333  0.200000  \n",
       "stacked  0.769231  0.320000  0.500000  0.200000  "
      ]
     },
     "execution_count": 20,
     "metadata": {},
     "output_type": "execute_result"
    }
   ],
   "source": [
    "x = []\n",
    "for angle in track_level_acc[map_type]:\n",
    "    x.append(track_level_acc['mel_map'][angle]['class_precision'])\n",
    "    \n",
    "track_level_mel_maps = pd.DataFrame(x)\n",
    "track_level_mel_maps['angle'] = pd.Series(['0','45','90','135','stacked'])\n",
    "track_level_mel_maps.set_index('angle', inplace=True)\n",
    "track_level_mel_maps"
   ]
  },
  {
   "cell_type": "markdown",
   "metadata": {},
   "source": [
    "### Track-level recall per genre for mel-maps"
   ]
  },
  {
   "cell_type": "code",
   "execution_count": 21,
   "metadata": {},
   "outputs": [
    {
     "data": {
      "text/html": [
       "<div>\n",
       "<style scoped>\n",
       "    .dataframe tbody tr th:only-of-type {\n",
       "        vertical-align: middle;\n",
       "    }\n",
       "\n",
       "    .dataframe tbody tr th {\n",
       "        vertical-align: top;\n",
       "    }\n",
       "\n",
       "    .dataframe thead th {\n",
       "        text-align: right;\n",
       "    }\n",
       "</style>\n",
       "<table border=\"1\" class=\"dataframe\">\n",
       "  <thead>\n",
       "    <tr style=\"text-align: right;\">\n",
       "      <th></th>\n",
       "      <th>blues</th>\n",
       "      <th>classical</th>\n",
       "      <th>country</th>\n",
       "      <th>disco</th>\n",
       "      <th>hiphop</th>\n",
       "      <th>jazz</th>\n",
       "      <th>metal</th>\n",
       "      <th>pop</th>\n",
       "      <th>reggae</th>\n",
       "      <th>rock</th>\n",
       "    </tr>\n",
       "    <tr>\n",
       "      <th>angle</th>\n",
       "      <th></th>\n",
       "      <th></th>\n",
       "      <th></th>\n",
       "      <th></th>\n",
       "      <th></th>\n",
       "      <th></th>\n",
       "      <th></th>\n",
       "      <th></th>\n",
       "      <th></th>\n",
       "      <th></th>\n",
       "    </tr>\n",
       "  </thead>\n",
       "  <tbody>\n",
       "    <tr>\n",
       "      <th>0</th>\n",
       "      <td>0.5</td>\n",
       "      <td>0.9</td>\n",
       "      <td>0.4</td>\n",
       "      <td>0.2</td>\n",
       "      <td>0.1</td>\n",
       "      <td>0.6</td>\n",
       "      <td>1.0</td>\n",
       "      <td>0.8</td>\n",
       "      <td>0.6</td>\n",
       "      <td>0.1</td>\n",
       "    </tr>\n",
       "    <tr>\n",
       "      <th>45</th>\n",
       "      <td>0.1</td>\n",
       "      <td>0.8</td>\n",
       "      <td>0.1</td>\n",
       "      <td>0.1</td>\n",
       "      <td>0.1</td>\n",
       "      <td>0.5</td>\n",
       "      <td>1.0</td>\n",
       "      <td>0.9</td>\n",
       "      <td>0.5</td>\n",
       "      <td>0.1</td>\n",
       "    </tr>\n",
       "    <tr>\n",
       "      <th>90</th>\n",
       "      <td>0.1</td>\n",
       "      <td>0.8</td>\n",
       "      <td>0.0</td>\n",
       "      <td>0.1</td>\n",
       "      <td>0.3</td>\n",
       "      <td>0.6</td>\n",
       "      <td>0.9</td>\n",
       "      <td>0.9</td>\n",
       "      <td>0.3</td>\n",
       "      <td>0.1</td>\n",
       "    </tr>\n",
       "    <tr>\n",
       "      <th>135</th>\n",
       "      <td>0.2</td>\n",
       "      <td>0.9</td>\n",
       "      <td>0.3</td>\n",
       "      <td>0.2</td>\n",
       "      <td>0.0</td>\n",
       "      <td>0.6</td>\n",
       "      <td>1.0</td>\n",
       "      <td>0.8</td>\n",
       "      <td>0.5</td>\n",
       "      <td>0.1</td>\n",
       "    </tr>\n",
       "    <tr>\n",
       "      <th>stacked</th>\n",
       "      <td>0.3</td>\n",
       "      <td>0.9</td>\n",
       "      <td>0.4</td>\n",
       "      <td>0.2</td>\n",
       "      <td>0.3</td>\n",
       "      <td>0.4</td>\n",
       "      <td>1.0</td>\n",
       "      <td>0.8</td>\n",
       "      <td>0.6</td>\n",
       "      <td>0.1</td>\n",
       "    </tr>\n",
       "  </tbody>\n",
       "</table>\n",
       "</div>"
      ],
      "text/plain": [
       "         blues  classical  country  disco  hiphop  jazz  metal  pop  reggae  \\\n",
       "angle                                                                         \n",
       "0          0.5        0.9      0.4    0.2     0.1   0.6    1.0  0.8     0.6   \n",
       "45         0.1        0.8      0.1    0.1     0.1   0.5    1.0  0.9     0.5   \n",
       "90         0.1        0.8      0.0    0.1     0.3   0.6    0.9  0.9     0.3   \n",
       "135        0.2        0.9      0.3    0.2     0.0   0.6    1.0  0.8     0.5   \n",
       "stacked    0.3        0.9      0.4    0.2     0.3   0.4    1.0  0.8     0.6   \n",
       "\n",
       "         rock  \n",
       "angle          \n",
       "0         0.1  \n",
       "45        0.1  \n",
       "90        0.1  \n",
       "135       0.1  \n",
       "stacked   0.1  "
      ]
     },
     "execution_count": 21,
     "metadata": {},
     "output_type": "execute_result"
    }
   ],
   "source": [
    "x = []\n",
    "for angle in track_level_acc[map_type]:\n",
    "    x.append(track_level_acc['mel_map'][angle]['class_recall'])\n",
    "    \n",
    "track_level_mel_maps = pd.DataFrame(x)\n",
    "track_level_mel_maps['angle'] = pd.Series(['0','45','90','135','stacked'])\n",
    "track_level_mel_maps.set_index('angle', inplace=True)\n",
    "track_level_mel_maps"
   ]
  },
  {
   "cell_type": "markdown",
   "metadata": {},
   "source": [
    "### Track-level accuracy per genre for spectrograms"
   ]
  },
  {
   "cell_type": "code",
   "execution_count": 22,
   "metadata": {},
   "outputs": [
    {
     "data": {
      "text/plain": [
       "blues        0.500000\n",
       "classical    0.900000\n",
       "country      1.000000\n",
       "disco        0.428571\n",
       "hiphop       0.500000\n",
       "jazz         0.466667\n",
       "metal        0.818182\n",
       "pop          0.347826\n",
       "reggae       0.466667\n",
       "rock         0.090909\n",
       "dtype: float64"
      ]
     },
     "execution_count": 22,
     "metadata": {},
     "output_type": "execute_result"
    }
   ],
   "source": [
    "pd.Series(track_level_acc['spectrogram'][0]['class_precision'])"
   ]
  },
  {
   "cell_type": "markdown",
   "metadata": {},
   "source": [
    "### Track-level recall per genre for spectrograms"
   ]
  },
  {
   "cell_type": "code",
   "execution_count": 23,
   "metadata": {},
   "outputs": [
    {
     "data": {
      "text/plain": [
       "blues        0.1\n",
       "classical    0.9\n",
       "country      0.4\n",
       "disco        0.3\n",
       "hiphop       0.1\n",
       "jazz         0.7\n",
       "metal        0.9\n",
       "pop          0.8\n",
       "reggae       0.7\n",
       "rock         0.1\n",
       "dtype: float64"
      ]
     },
     "execution_count": 23,
     "metadata": {},
     "output_type": "execute_result"
    }
   ],
   "source": [
    "pd.Series(track_level_acc['spectrogram'][0]['class_recall'])"
   ]
  },
  {
   "cell_type": "code",
   "execution_count": 24,
   "metadata": {},
   "outputs": [],
   "source": [
    "#Dump the results\n",
    "with open(git_root('evaluation','evaluation_results','glcm_track_level_results.json'), 'w') as fp:\n",
    "    json.dump(track_level_acc, fp, indent=4)"
   ]
  },
  {
   "cell_type": "markdown",
   "metadata": {},
   "source": [
    "# Results for our own models"
   ]
  },
  {
   "cell_type": "markdown",
   "metadata": {},
   "source": [
    "## Model with stacked input"
   ]
  },
  {
   "cell_type": "code",
   "execution_count": 25,
   "metadata": {},
   "outputs": [
    {
     "name": "stdout",
     "output_type": "stream",
     "text": [
      "Fetching: data_mel_map_angle_0_test.json\n",
      "Saving to: /Users/arnaudstiegler/Desktop/deep-music-classification/evaluation/evaluation_results/results_stacked_final.csv\n"
     ]
    }
   ],
   "source": [
    "model = 'stacked_final'\n",
    "\n",
    "#Fetch the trained model\n",
    "model_path = git_root('models','saved_models',\n",
    "                                  'stacked_final.h5')\n",
    "net = load_model(model_path)\n",
    "#For some reason, I need to cast my tensor to float32 for predict (and not for fit ?!)\n",
    "#dataset = tf.data.Dataset.from_tensors(tf.dtypes.cast(fetch_format_stacked(train=False), tf.float32))\n",
    "dataset = tf.data.Dataset.from_tensor_slices(tf.dtypes.cast(stacked_mel_maps, tf.float32)).batch(32)\n",
    "#Generate predictions\n",
    "y = net.predict(dataset)\n",
    "preds = pd.DataFrame(y)\n",
    "preds.columns = [\"class{}\".format(i) for i in range(10)]\n",
    "        \n",
    "#Concatenate the prediction to our dataset\n",
    "df = fetch_data_local(map_type='mel_map', train=False, angle='0').loc[:,['filename','split_id','genre']].merge(preds,left_index=True, right_index=True)\n",
    "        \n",
    "save_path=git_root(\"evaluation\",\"evaluation_results\",\"results_{}.csv\".format(model))\n",
    "print(\"Saving to: {}\".format(save_path))\n",
    "df.to_csv(save_path)"
   ]
  },
  {
   "cell_type": "markdown",
   "metadata": {},
   "source": [
    "## Model with concatenated architecture"
   ]
  },
  {
   "cell_type": "code",
   "execution_count": 32,
   "metadata": {},
   "outputs": [
    {
     "name": "stdout",
     "output_type": "stream",
     "text": [
      "Fetching: data_mel_map_angle_0_test.json\n",
      "Fetching: data_mel_map_angle_45_test.json\n",
      "Fetching: data_mel_map_angle_90_test.json\n",
      "Fetching: data_mel_map_angle_135_test.json\n"
     ]
    }
   ],
   "source": [
    "model = 'concatenated_final'\n",
    "\n",
    "#Fetch the trained model\n",
    "model_path = git_root('models','saved_models',\n",
    "                                  'concatenated_final.h5')\n",
    "net = load_model(model_path, custom_objects={'AffineScalar':AffineScalar()})\n",
    "#For some reason, I need to cast my tensor to float32 for predict (and not for fit ?!)\n",
    "#dataset = tf.data.Dataset.from_tensors(tf.dtypes.cast(fetch_format_stacked(train=False), tf.float32))\n",
    "\n",
    "x0 = np.stack(to_numpy_arrays(fetch_data_local(map_type='mel_map', train=False, angle='0'))[0]).astype(float)\n",
    "x1 = np.stack(to_numpy_arrays(fetch_data_local(map_type='mel_map', train=False, angle='45'))[0]).astype(float)\n",
    "x2 = np.stack(to_numpy_arrays(fetch_data_local(map_type='mel_map', train=False, angle='90'))[0]).astype(float)\n",
    "x3 = np.stack(to_numpy_arrays(fetch_data_local(map_type='mel_map', train=False, angle='135'))[0]).astype(float)"
   ]
  },
  {
   "cell_type": "code",
   "execution_count": 33,
   "metadata": {},
   "outputs": [
    {
     "name": "stdout",
     "output_type": "stream",
     "text": [
      "Fetching: data_mel_map_angle_0_test.json\n",
      "Saving to: /Users/arnaudstiegler/Desktop/deep-music-classification/evaluation/evaluation_results/results_concatenated_final.csv\n"
     ]
    }
   ],
   "source": [
    "#Generate predictions\n",
    "y = net.predict([x0,x1,x2,x3])\n",
    "preds = pd.DataFrame(y)\n",
    "preds.columns = [\"class{}\".format(i) for i in range(10)]\n",
    "        \n",
    "#Concatenate the prediction to our dataset\n",
    "df = fetch_data_local(map_type='mel_map', train=False, angle='0').loc[:,['filename','split_id','genre']].merge(preds,left_index=True, right_index=True)\n",
    "        \n",
    "save_path=git_root(\"evaluation\",\"evaluation_results\",\"results_{}.csv\".format(model))\n",
    "print(\"Saving to: {}\".format(save_path))\n",
    "df.to_csv(save_path)"
   ]
  },
  {
   "cell_type": "markdown",
   "metadata": {},
   "source": [
    "## Piece-level accuracy"
   ]
  },
  {
   "cell_type": "code",
   "execution_count": 36,
   "metadata": {},
   "outputs": [],
   "source": [
    "piece_new_models_acc={'stacked_final':{},\n",
    "               'concatenated_final':{}}\n",
    "\n",
    "for model in piece_new_models_acc:\n",
    "    filepath=git_root(\"evaluation\",\"evaluation_results\",\"results_{}.csv\".format(model))\n",
    "    df = pd.read_csv(filepath, index_col=0)\n",
    "\n",
    "    df['pred'] = np.argmax(df[class_columns].values, axis=1)\n",
    "\n",
    "    df['label'] = df['genre'].apply(lambda x: label_to_idx[x])\n",
    "\n",
    "    report = classification_report(df['label'], df['pred'], output_dict=True)\n",
    "    piece_new_models_acc[model]['accuracy'] = report['accuracy']\n",
    "\n",
    "    piece_new_models_acc[model]['class_precision'] = {}\n",
    "    piece_new_models_acc[model]['class_recall'] = {}\n",
    "\n",
    "    for i in range(10):\n",
    "        piece_new_models_acc[model]['class_precision'][idx_to_label[i]] = report[str(i)]['precision']\n",
    "        piece_new_models_acc[model]['class_recall'][idx_to_label[i]] = report[str(i)]['recall']\n"
   ]
  },
  {
   "cell_type": "markdown",
   "metadata": {},
   "source": [
    "### Piece-level accuracy for our models"
   ]
  },
  {
   "cell_type": "code",
   "execution_count": 37,
   "metadata": {
    "scrolled": true
   },
   "outputs": [
    {
     "data": {
      "text/plain": [
       "stacked_final         0.362857\n",
       "concatenated_final    0.509286\n",
       "Name: accuracy, dtype: object"
      ]
     },
     "execution_count": 37,
     "metadata": {},
     "output_type": "execute_result"
    }
   ],
   "source": [
    "pd.DataFrame(piece_new_models_acc).T['accuracy']"
   ]
  },
  {
   "cell_type": "markdown",
   "metadata": {},
   "source": [
    "### Piece-level precision per genre for our models"
   ]
  },
  {
   "cell_type": "code",
   "execution_count": 39,
   "metadata": {},
   "outputs": [
    {
     "data": {
      "text/html": [
       "<div>\n",
       "<style scoped>\n",
       "    .dataframe tbody tr th:only-of-type {\n",
       "        vertical-align: middle;\n",
       "    }\n",
       "\n",
       "    .dataframe tbody tr th {\n",
       "        vertical-align: top;\n",
       "    }\n",
       "\n",
       "    .dataframe thead th {\n",
       "        text-align: right;\n",
       "    }\n",
       "</style>\n",
       "<table border=\"1\" class=\"dataframe\">\n",
       "  <thead>\n",
       "    <tr style=\"text-align: right;\">\n",
       "      <th></th>\n",
       "      <th>blues</th>\n",
       "      <th>classical</th>\n",
       "      <th>country</th>\n",
       "      <th>disco</th>\n",
       "      <th>hiphop</th>\n",
       "      <th>jazz</th>\n",
       "      <th>metal</th>\n",
       "      <th>pop</th>\n",
       "      <th>reggae</th>\n",
       "      <th>rock</th>\n",
       "    </tr>\n",
       "    <tr>\n",
       "      <th>model</th>\n",
       "      <th></th>\n",
       "      <th></th>\n",
       "      <th></th>\n",
       "      <th></th>\n",
       "      <th></th>\n",
       "      <th></th>\n",
       "      <th></th>\n",
       "      <th></th>\n",
       "      <th></th>\n",
       "      <th></th>\n",
       "    </tr>\n",
       "  </thead>\n",
       "  <tbody>\n",
       "    <tr>\n",
       "      <th>stacked input</th>\n",
       "      <td>0.537313</td>\n",
       "      <td>0.828283</td>\n",
       "      <td>0.322344</td>\n",
       "      <td>0.137652</td>\n",
       "      <td>0.191176</td>\n",
       "      <td>0.510791</td>\n",
       "      <td>1.000000</td>\n",
       "      <td>0.465753</td>\n",
       "      <td>0.340426</td>\n",
       "      <td>0.211765</td>\n",
       "    </tr>\n",
       "    <tr>\n",
       "      <th>concatenated architecture</th>\n",
       "      <td>0.508621</td>\n",
       "      <td>0.900763</td>\n",
       "      <td>0.521008</td>\n",
       "      <td>0.290909</td>\n",
       "      <td>0.235294</td>\n",
       "      <td>0.549669</td>\n",
       "      <td>0.791946</td>\n",
       "      <td>0.441606</td>\n",
       "      <td>0.447059</td>\n",
       "      <td>0.270677</td>\n",
       "    </tr>\n",
       "  </tbody>\n",
       "</table>\n",
       "</div>"
      ],
      "text/plain": [
       "                              blues  classical   country     disco    hiphop  \\\n",
       "model                                                                          \n",
       "stacked input              0.537313   0.828283  0.322344  0.137652  0.191176   \n",
       "concatenated architecture  0.508621   0.900763  0.521008  0.290909  0.235294   \n",
       "\n",
       "                               jazz     metal       pop    reggae      rock  \n",
       "model                                                                        \n",
       "stacked input              0.510791  1.000000  0.465753  0.340426  0.211765  \n",
       "concatenated architecture  0.549669  0.791946  0.441606  0.447059  0.270677  "
      ]
     },
     "execution_count": 39,
     "metadata": {},
     "output_type": "execute_result"
    }
   ],
   "source": [
    "x = []\n",
    "for model in piece_new_models_acc:\n",
    "    x.append(piece_new_models_acc[model]['class_precision'])\n",
    "    \n",
    "piece_level_models = pd.DataFrame(x)\n",
    "piece_level_models['model'] = pd.Series(['stacked input', 'concatenated architecture'])\n",
    "piece_level_models.set_index('model', inplace=True)\n",
    "piece_level_models"
   ]
  },
  {
   "cell_type": "markdown",
   "metadata": {},
   "source": [
    "### Piece-level recall per genre for our models"
   ]
  },
  {
   "cell_type": "code",
   "execution_count": 40,
   "metadata": {},
   "outputs": [
    {
     "data": {
      "text/html": [
       "<div>\n",
       "<style scoped>\n",
       "    .dataframe tbody tr th:only-of-type {\n",
       "        vertical-align: middle;\n",
       "    }\n",
       "\n",
       "    .dataframe tbody tr th {\n",
       "        vertical-align: top;\n",
       "    }\n",
       "\n",
       "    .dataframe thead th {\n",
       "        text-align: right;\n",
       "    }\n",
       "</style>\n",
       "<table border=\"1\" class=\"dataframe\">\n",
       "  <thead>\n",
       "    <tr style=\"text-align: right;\">\n",
       "      <th></th>\n",
       "      <th>blues</th>\n",
       "      <th>classical</th>\n",
       "      <th>country</th>\n",
       "      <th>disco</th>\n",
       "      <th>hiphop</th>\n",
       "      <th>jazz</th>\n",
       "      <th>metal</th>\n",
       "      <th>pop</th>\n",
       "      <th>reggae</th>\n",
       "      <th>rock</th>\n",
       "    </tr>\n",
       "    <tr>\n",
       "      <th>model</th>\n",
       "      <th></th>\n",
       "      <th></th>\n",
       "      <th></th>\n",
       "      <th></th>\n",
       "      <th></th>\n",
       "      <th></th>\n",
       "      <th></th>\n",
       "      <th></th>\n",
       "      <th></th>\n",
       "      <th></th>\n",
       "    </tr>\n",
       "  </thead>\n",
       "  <tbody>\n",
       "    <tr>\n",
       "      <th>stacked input</th>\n",
       "      <td>0.257143</td>\n",
       "      <td>0.585714</td>\n",
       "      <td>0.628571</td>\n",
       "      <td>0.242857</td>\n",
       "      <td>0.092857</td>\n",
       "      <td>0.507143</td>\n",
       "      <td>0.142857</td>\n",
       "      <td>0.242857</td>\n",
       "      <td>0.800000</td>\n",
       "      <td>0.128571</td>\n",
       "    </tr>\n",
       "    <tr>\n",
       "      <th>stacked architecture</th>\n",
       "      <td>0.421429</td>\n",
       "      <td>0.842857</td>\n",
       "      <td>0.442857</td>\n",
       "      <td>0.114286</td>\n",
       "      <td>0.171429</td>\n",
       "      <td>0.592857</td>\n",
       "      <td>0.842857</td>\n",
       "      <td>0.864286</td>\n",
       "      <td>0.542857</td>\n",
       "      <td>0.257143</td>\n",
       "    </tr>\n",
       "  </tbody>\n",
       "</table>\n",
       "</div>"
      ],
      "text/plain": [
       "                         blues  classical   country     disco    hiphop  \\\n",
       "model                                                                     \n",
       "stacked input         0.257143   0.585714  0.628571  0.242857  0.092857   \n",
       "stacked architecture  0.421429   0.842857  0.442857  0.114286  0.171429   \n",
       "\n",
       "                          jazz     metal       pop    reggae      rock  \n",
       "model                                                                   \n",
       "stacked input         0.507143  0.142857  0.242857  0.800000  0.128571  \n",
       "stacked architecture  0.592857  0.842857  0.864286  0.542857  0.257143  "
      ]
     },
     "execution_count": 40,
     "metadata": {},
     "output_type": "execute_result"
    }
   ],
   "source": [
    "x = []\n",
    "for model in piece_new_models_acc:\n",
    "    x.append(piece_new_models_acc[model]['class_recall'])\n",
    "    \n",
    "piece_level_models = pd.DataFrame(x)\n",
    "piece_level_models['model'] = pd.Series(['stacked input', 'stacked architecture'])\n",
    "piece_level_models.set_index('model', inplace=True)\n",
    "piece_level_models"
   ]
  },
  {
   "cell_type": "code",
   "execution_count": 41,
   "metadata": {},
   "outputs": [],
   "source": [
    "with open(git_root('evaluation','evaluation_results','piece_new_models_results.json'), 'w') as fp:\n",
    "    json.dump(piece_new_models_acc, fp, indent=4)"
   ]
  },
  {
   "cell_type": "markdown",
   "metadata": {},
   "source": [
    "## Track-level accuracy"
   ]
  },
  {
   "cell_type": "code",
   "execution_count": 43,
   "metadata": {},
   "outputs": [
    {
     "name": "stderr",
     "output_type": "stream",
     "text": [
      "/Users/arnaudstiegler/miniconda3/envs/music_classification/lib/python3.7/site-packages/sklearn/metrics/classification.py:1437: UndefinedMetricWarning: Precision and F-score are ill-defined and being set to 0.0 in labels with no predicted samples.\n",
      "  'precision', 'predicted', average, warn_for)\n"
     ]
    }
   ],
   "source": [
    "track_new_models_acc={'stacked_final':{},\n",
    "               'concatenated_final':{}}\n",
    "\n",
    "for model in track_new_models_acc:\n",
    "    filepath=git_root(\"evaluation\",\"evaluation_results\",\"results_{}.csv\".format(model))\n",
    "    df = pd.read_csv(filepath, index_col=0)\n",
    "\n",
    "    df_per_track = df.groupby('filename').sum()\n",
    "    #Label is the highest prob\n",
    "    df_per_track['pred'] = np.argmax(df_per_track[class_columns].values, axis=1)\n",
    "    #Merge back to get the track_names\n",
    "    df_result = df_per_track.merge(track_mapping, on='filename')\n",
    "    df_result['label'] = df_result['genre'].apply(lambda x: label_to_idx[x])\n",
    "\n",
    "\n",
    "    report = classification_report(df_result['label'], df_result['pred'], output_dict=True)\n",
    "    track_new_models_acc[model]['accuracy'] = report['accuracy']\n",
    "        \n",
    "    track_new_models_acc[model]['class_precision'] = {}\n",
    "    track_new_models_acc[model]['class_recall'] = {}\n",
    "        \n",
    "    for i in range(10):\n",
    "        track_new_models_acc[model]['class_precision'][idx_to_label[i]] = report[str(i)]['precision']\n",
    "        track_new_models_acc[model]['class_recall'][idx_to_label[i]] = report[str(i)]['recall']\n"
   ]
  },
  {
   "cell_type": "markdown",
   "metadata": {},
   "source": [
    "### Track-level accuracy for our models"
   ]
  },
  {
   "cell_type": "code",
   "execution_count": 44,
   "metadata": {},
   "outputs": [
    {
     "data": {
      "text/plain": [
       "stacked_final         0.36\n",
       "concatenated_final    0.57\n",
       "Name: accuracy, dtype: object"
      ]
     },
     "execution_count": 44,
     "metadata": {},
     "output_type": "execute_result"
    }
   ],
   "source": [
    "pd.DataFrame(track_new_models_acc).T['accuracy']"
   ]
  },
  {
   "cell_type": "markdown",
   "metadata": {},
   "source": [
    "### Track-level precision per genre for our models"
   ]
  },
  {
   "cell_type": "code",
   "execution_count": 53,
   "metadata": {
    "scrolled": true
   },
   "outputs": [
    {
     "data": {
      "text/html": [
       "<div>\n",
       "<style scoped>\n",
       "    .dataframe tbody tr th:only-of-type {\n",
       "        vertical-align: middle;\n",
       "    }\n",
       "\n",
       "    .dataframe tbody tr th {\n",
       "        vertical-align: top;\n",
       "    }\n",
       "\n",
       "    .dataframe thead th {\n",
       "        text-align: right;\n",
       "    }\n",
       "</style>\n",
       "<table border=\"1\" class=\"dataframe\">\n",
       "  <thead>\n",
       "    <tr style=\"text-align: right;\">\n",
       "      <th></th>\n",
       "      <th>blues</th>\n",
       "      <th>classical</th>\n",
       "      <th>country</th>\n",
       "      <th>disco</th>\n",
       "      <th>hiphop</th>\n",
       "      <th>jazz</th>\n",
       "      <th>metal</th>\n",
       "      <th>pop</th>\n",
       "      <th>reggae</th>\n",
       "      <th>rock</th>\n",
       "    </tr>\n",
       "    <tr>\n",
       "      <th>model</th>\n",
       "      <th></th>\n",
       "      <th></th>\n",
       "      <th></th>\n",
       "      <th></th>\n",
       "      <th></th>\n",
       "      <th></th>\n",
       "      <th></th>\n",
       "      <th></th>\n",
       "      <th></th>\n",
       "      <th></th>\n",
       "    </tr>\n",
       "  </thead>\n",
       "  <tbody>\n",
       "    <tr>\n",
       "      <th>stacked input</th>\n",
       "      <td>0.666667</td>\n",
       "      <td>1.0</td>\n",
       "      <td>0.318182</td>\n",
       "      <td>0.105263</td>\n",
       "      <td>0.0</td>\n",
       "      <td>0.636364</td>\n",
       "      <td>0.000000</td>\n",
       "      <td>0.500000</td>\n",
       "      <td>0.333333</td>\n",
       "      <td>0.250000</td>\n",
       "    </tr>\n",
       "    <tr>\n",
       "      <th>concatenated architecture</th>\n",
       "      <td>0.545455</td>\n",
       "      <td>1.0</td>\n",
       "      <td>0.500000</td>\n",
       "      <td>0.500000</td>\n",
       "      <td>0.4</td>\n",
       "      <td>0.700000</td>\n",
       "      <td>0.833333</td>\n",
       "      <td>0.409091</td>\n",
       "      <td>0.500000</td>\n",
       "      <td>0.285714</td>\n",
       "    </tr>\n",
       "  </tbody>\n",
       "</table>\n",
       "</div>"
      ],
      "text/plain": [
       "                              blues  classical   country     disco  hiphop  \\\n",
       "model                                                                        \n",
       "stacked input              0.666667        1.0  0.318182  0.105263     0.0   \n",
       "concatenated architecture  0.545455        1.0  0.500000  0.500000     0.4   \n",
       "\n",
       "                               jazz     metal       pop    reggae      rock  \n",
       "model                                                                        \n",
       "stacked input              0.636364  0.000000  0.500000  0.333333  0.250000  \n",
       "concatenated architecture  0.700000  0.833333  0.409091  0.500000  0.285714  "
      ]
     },
     "execution_count": 53,
     "metadata": {},
     "output_type": "execute_result"
    }
   ],
   "source": [
    "x = []\n",
    "for type_ in track_new_models_acc:\n",
    "    x.append(track_new_models_acc[type_]['class_precision'])\n",
    "    \n",
    "track_level_models = pd.DataFrame(x)\n",
    "track_level_models['model'] = pd.Series(['stacked input', 'concatenated architecture'])\n",
    "track_level_models.set_index('model', inplace=True)\n",
    "track_level_models"
   ]
  },
  {
   "cell_type": "markdown",
   "metadata": {},
   "source": [
    "### Track-level recall per genre for our models"
   ]
  },
  {
   "cell_type": "code",
   "execution_count": 54,
   "metadata": {
    "scrolled": true
   },
   "outputs": [
    {
     "data": {
      "text/html": [
       "<div>\n",
       "<style scoped>\n",
       "    .dataframe tbody tr th:only-of-type {\n",
       "        vertical-align: middle;\n",
       "    }\n",
       "\n",
       "    .dataframe tbody tr th {\n",
       "        vertical-align: top;\n",
       "    }\n",
       "\n",
       "    .dataframe thead th {\n",
       "        text-align: right;\n",
       "    }\n",
       "</style>\n",
       "<table border=\"1\" class=\"dataframe\">\n",
       "  <thead>\n",
       "    <tr style=\"text-align: right;\">\n",
       "      <th></th>\n",
       "      <th>blues</th>\n",
       "      <th>classical</th>\n",
       "      <th>country</th>\n",
       "      <th>disco</th>\n",
       "      <th>hiphop</th>\n",
       "      <th>jazz</th>\n",
       "      <th>metal</th>\n",
       "      <th>pop</th>\n",
       "      <th>reggae</th>\n",
       "      <th>rock</th>\n",
       "    </tr>\n",
       "    <tr>\n",
       "      <th>model</th>\n",
       "      <th></th>\n",
       "      <th></th>\n",
       "      <th></th>\n",
       "      <th></th>\n",
       "      <th></th>\n",
       "      <th></th>\n",
       "      <th></th>\n",
       "      <th></th>\n",
       "      <th></th>\n",
       "      <th></th>\n",
       "    </tr>\n",
       "  </thead>\n",
       "  <tbody>\n",
       "    <tr>\n",
       "      <th>stacked input</th>\n",
       "      <td>0.2</td>\n",
       "      <td>0.7</td>\n",
       "      <td>0.7</td>\n",
       "      <td>0.2</td>\n",
       "      <td>0.0</td>\n",
       "      <td>0.7</td>\n",
       "      <td>0.0</td>\n",
       "      <td>0.1</td>\n",
       "      <td>0.8</td>\n",
       "      <td>0.2</td>\n",
       "    </tr>\n",
       "    <tr>\n",
       "      <th>concatenated architecture</th>\n",
       "      <td>0.6</td>\n",
       "      <td>0.9</td>\n",
       "      <td>0.4</td>\n",
       "      <td>0.1</td>\n",
       "      <td>0.2</td>\n",
       "      <td>0.7</td>\n",
       "      <td>1.0</td>\n",
       "      <td>0.9</td>\n",
       "      <td>0.7</td>\n",
       "      <td>0.2</td>\n",
       "    </tr>\n",
       "  </tbody>\n",
       "</table>\n",
       "</div>"
      ],
      "text/plain": [
       "                           blues  classical  country  disco  hiphop  jazz  \\\n",
       "model                                                                       \n",
       "stacked input                0.2        0.7      0.7    0.2     0.0   0.7   \n",
       "concatenated architecture    0.6        0.9      0.4    0.1     0.2   0.7   \n",
       "\n",
       "                           metal  pop  reggae  rock  \n",
       "model                                                \n",
       "stacked input                0.0  0.1     0.8   0.2  \n",
       "concatenated architecture    1.0  0.9     0.7   0.2  "
      ]
     },
     "execution_count": 54,
     "metadata": {},
     "output_type": "execute_result"
    }
   ],
   "source": [
    "x = []\n",
    "for type_ in track_new_models_acc:\n",
    "    x.append(track_new_models_acc[type_]['class_recall'])\n",
    "    \n",
    "track_level_models = pd.DataFrame(x)\n",
    "track_level_models['model'] = pd.Series(['stacked input', 'concatenated architecture'])\n",
    "track_level_models.set_index('model', inplace=True)\n",
    "track_level_models"
   ]
  },
  {
   "cell_type": "code",
   "execution_count": 50,
   "metadata": {},
   "outputs": [],
   "source": [
    "with open(git_root('evaluation','evaluation_results','track_new_models_results.json'), 'w') as fp:\n",
    "    json.dump(track_new_models_acc, fp, indent=4)"
   ]
  }
 ],
 "metadata": {
  "kernelspec": {
   "display_name": "Python [conda env:music_classification]",
   "language": "python",
   "name": "conda-env-music_classification-py"
  },
  "language_info": {
   "codemirror_mode": {
    "name": "ipython",
    "version": 3
   },
   "file_extension": ".py",
   "mimetype": "text/x-python",
   "name": "python",
   "nbconvert_exporter": "python",
   "pygments_lexer": "ipython3",
   "version": "3.7.5"
  }
 },
 "nbformat": 4,
 "nbformat_minor": 4
}
