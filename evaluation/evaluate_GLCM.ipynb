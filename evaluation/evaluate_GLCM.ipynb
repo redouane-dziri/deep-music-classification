{
 "cells": [
  {
   "cell_type": "code",
   "execution_count": 14,
   "metadata": {},
   "outputs": [
    {
     "name": "stdout",
     "output_type": "stream",
     "text": [
      "2.0.0\n"
     ]
    }
   ],
   "source": [
    "import sys\n",
    "import os\n",
    "from git_root import git_root\n",
    "\n",
    "import numpy as np\n",
    "import pandas as pd\n",
    "import tensorflow as tf\n",
    "\n",
    "sys.path.append(git_root(\"utils\"))\n",
    "from utils import load_params, load_config\n",
    "\n",
    "sys.path.append(git_root(\"training\"))\n",
    "from fetch_data import fetch_data_local, fetch_format_stacked\n",
    "from fetch_data import to_numpy_arrays, prepare_tf_dataset\n",
    "\n",
    "import json\n",
    "\n",
    "print(tf.__version__)"
   ]
  },
  {
   "cell_type": "markdown",
   "metadata": {},
   "source": [
    "# Generating the predictions for the test sets"
   ]
  },
  {
   "cell_type": "code",
   "execution_count": 15,
   "metadata": {},
   "outputs": [],
   "source": [
    "params = load_params()\n",
    "\n",
    "angles = params[\"GLCM\"][\"mel_map\"][\"angles_in_deg\"]\n",
    "\n",
    "place_holder = {\n",
    "    \"spectrogram\": {0: []},\n",
    "    \"mel_map\": {\n",
    "        angle: [] for angle in angles\n",
    "    }\n",
    "}"
   ]
  },
  {
   "cell_type": "code",
   "execution_count": 16,
   "metadata": {
    "scrolled": true
   },
   "outputs": [
    {
     "name": "stdout",
     "output_type": "stream",
     "text": [
      "Map: spectrogram, angle: 0\n",
      "Fetching: data_spectrogram_angle_0_test.json\n",
      "Saving to: /Users/arnaudstiegler/Desktop/deep-music-classification/evaluation/evaluation_results/results_spectrogram_0.csv\n",
      "Map: mel_map, angle: 0\n",
      "Fetching: data_mel_map_angle_0_test.json\n",
      "Saving to: /Users/arnaudstiegler/Desktop/deep-music-classification/evaluation/evaluation_results/results_mel_map_0.csv\n",
      "Map: mel_map, angle: 45\n",
      "Fetching: data_mel_map_angle_45_test.json\n",
      "Saving to: /Users/arnaudstiegler/Desktop/deep-music-classification/evaluation/evaluation_results/results_mel_map_45.csv\n",
      "Map: mel_map, angle: 90\n",
      "Fetching: data_mel_map_angle_90_test.json\n",
      "Saving to: /Users/arnaudstiegler/Desktop/deep-music-classification/evaluation/evaluation_results/results_mel_map_90.csv\n",
      "Map: mel_map, angle: 135\n",
      "Fetching: data_mel_map_angle_135_test.json\n",
      "Saving to: /Users/arnaudstiegler/Desktop/deep-music-classification/evaluation/evaluation_results/results_mel_map_135.csv\n"
     ]
    }
   ],
   "source": [
    "from tensorflow.keras.models import load_model\n",
    "sys.path.append(git_root(\"models\"))\n",
    "from affine_scalar_layer import AffineScalar\n",
    "\n",
    "\n",
    "mapping_for_saved_models = {'spectrogram': 'spec',\n",
    "                           'mel_map': 'mel'}\n",
    "\n",
    "for map_type in place_holder:\n",
    "    for angle in place_holder[map_type]:\n",
    "        #Fetch the data\n",
    "        print(f\"Map: {map_type}, angle: {angle}\")\n",
    "        df = fetch_data_local(\n",
    "            map_type=map_type, train=False, angle=angle\n",
    "        )\n",
    "        #Fetch the trained model\n",
    "        model_path = git_root('models','saved_models',\n",
    "                                  'glcm_{}_angle{}.h5'.format(mapping_for_saved_models[map_type],angle))\n",
    "        net = load_model(model_path,  custom_objects={'AffineScalar':AffineScalar()})\n",
    "        #For some reason, I need to cast my tensor to float32 for predict (and not for fit ?!)\n",
    "        dataset = tf.data.Dataset.from_tensors(tf.dtypes.cast(to_numpy_arrays(df)[0], tf.float32))\n",
    "        #Generate predictions\n",
    "        y = net.predict(dataset)\n",
    "        preds = pd.DataFrame(y)\n",
    "        preds.columns = [\"class{}\".format(i) for i in range(10)]\n",
    "        \n",
    "        #Concatenate the prediction to our dataset\n",
    "        df = df.merge(preds, left_index=True, right_index=True)\n",
    "        df = df.drop(['maps'], axis=1)\n",
    "        \n",
    "        save_path=git_root(\"evaluation\",\"evaluation_results\",\"results_{}_{}.csv\".format(map_type,angle))\n",
    "        print(\"Saving to: {}\".format(save_path))\n",
    "        df.to_csv(save_path)"
   ]
  },
  {
   "cell_type": "code",
   "execution_count": 17,
   "metadata": {},
   "outputs": [
    {
     "name": "stdout",
     "output_type": "stream",
     "text": [
      "Fetching: data_mel_map_angle_135_test.json\n"
     ]
    },
    {
     "data": {
      "text/html": [
       "<div>\n",
       "<style scoped>\n",
       "    .dataframe tbody tr th:only-of-type {\n",
       "        vertical-align: middle;\n",
       "    }\n",
       "\n",
       "    .dataframe tbody tr th {\n",
       "        vertical-align: top;\n",
       "    }\n",
       "\n",
       "    .dataframe thead th {\n",
       "        text-align: right;\n",
       "    }\n",
       "</style>\n",
       "<table border=\"1\" class=\"dataframe\">\n",
       "  <thead>\n",
       "    <tr style=\"text-align: right;\">\n",
       "      <th></th>\n",
       "      <th>filename</th>\n",
       "      <th>maps</th>\n",
       "      <th>split_id</th>\n",
       "      <th>genre</th>\n",
       "    </tr>\n",
       "  </thead>\n",
       "  <tbody>\n",
       "    <tr>\n",
       "      <th>0</th>\n",
       "      <td>blues.00018.wav</td>\n",
       "      <td>[[0, 0, 0, 0, 0, 0, 0, 0, 0, 0, 0, 0, 0, 0, 0]...</td>\n",
       "      <td>0</td>\n",
       "      <td>blues</td>\n",
       "    </tr>\n",
       "    <tr>\n",
       "      <th>1</th>\n",
       "      <td>blues.00018.wav</td>\n",
       "      <td>[[0, 0, 0, 0, 0, 0, 0, 0, 0, 0, 0, 0, 0, 0, 0]...</td>\n",
       "      <td>1</td>\n",
       "      <td>blues</td>\n",
       "    </tr>\n",
       "    <tr>\n",
       "      <th>2</th>\n",
       "      <td>blues.00018.wav</td>\n",
       "      <td>[[0, 0, 0, 0, 0, 0, 0, 0, 0, 0, 0, 0, 0, 0, 0]...</td>\n",
       "      <td>2</td>\n",
       "      <td>blues</td>\n",
       "    </tr>\n",
       "    <tr>\n",
       "      <th>3</th>\n",
       "      <td>blues.00018.wav</td>\n",
       "      <td>[[0, 0, 0, 0, 0, 0, 0, 0, 0, 0, 0, 0, 0, 0, 0]...</td>\n",
       "      <td>3</td>\n",
       "      <td>blues</td>\n",
       "    </tr>\n",
       "    <tr>\n",
       "      <th>4</th>\n",
       "      <td>blues.00018.wav</td>\n",
       "      <td>[[0, 0, 0, 0, 0, 0, 0, 0, 0, 0, 0, 0, 0, 0, 0]...</td>\n",
       "      <td>4</td>\n",
       "      <td>blues</td>\n",
       "    </tr>\n",
       "    <tr>\n",
       "      <th>...</th>\n",
       "      <td>...</td>\n",
       "      <td>...</td>\n",
       "      <td>...</td>\n",
       "      <td>...</td>\n",
       "    </tr>\n",
       "    <tr>\n",
       "      <th>1395</th>\n",
       "      <td>rock.00096.wav</td>\n",
       "      <td>[[0, 0, 0, 0, 0, 0, 0, 0, 0, 0, 0, 0, 0, 0, 0]...</td>\n",
       "      <td>9</td>\n",
       "      <td>rock</td>\n",
       "    </tr>\n",
       "    <tr>\n",
       "      <th>1396</th>\n",
       "      <td>rock.00096.wav</td>\n",
       "      <td>[[0, 0, 0, 0, 0, 0, 0, 0, 0, 0, 0, 0, 0, 0, 0]...</td>\n",
       "      <td>10</td>\n",
       "      <td>rock</td>\n",
       "    </tr>\n",
       "    <tr>\n",
       "      <th>1397</th>\n",
       "      <td>rock.00096.wav</td>\n",
       "      <td>[[0, 0, 0, 0, 0, 0, 0, 0, 0, 0, 0, 0, 0, 0, 0]...</td>\n",
       "      <td>11</td>\n",
       "      <td>rock</td>\n",
       "    </tr>\n",
       "    <tr>\n",
       "      <th>1398</th>\n",
       "      <td>rock.00096.wav</td>\n",
       "      <td>[[0, 0, 0, 0, 0, 0, 0, 0, 0, 0, 0, 0, 0, 0, 0]...</td>\n",
       "      <td>12</td>\n",
       "      <td>rock</td>\n",
       "    </tr>\n",
       "    <tr>\n",
       "      <th>1399</th>\n",
       "      <td>rock.00096.wav</td>\n",
       "      <td>[[0, 0, 0, 0, 0, 0, 0, 0, 0, 0, 0, 0, 0, 0, 0]...</td>\n",
       "      <td>13</td>\n",
       "      <td>rock</td>\n",
       "    </tr>\n",
       "  </tbody>\n",
       "</table>\n",
       "<p>1400 rows × 4 columns</p>\n",
       "</div>"
      ],
      "text/plain": [
       "             filename                                               maps  \\\n",
       "0     blues.00018.wav  [[0, 0, 0, 0, 0, 0, 0, 0, 0, 0, 0, 0, 0, 0, 0]...   \n",
       "1     blues.00018.wav  [[0, 0, 0, 0, 0, 0, 0, 0, 0, 0, 0, 0, 0, 0, 0]...   \n",
       "2     blues.00018.wav  [[0, 0, 0, 0, 0, 0, 0, 0, 0, 0, 0, 0, 0, 0, 0]...   \n",
       "3     blues.00018.wav  [[0, 0, 0, 0, 0, 0, 0, 0, 0, 0, 0, 0, 0, 0, 0]...   \n",
       "4     blues.00018.wav  [[0, 0, 0, 0, 0, 0, 0, 0, 0, 0, 0, 0, 0, 0, 0]...   \n",
       "...               ...                                                ...   \n",
       "1395   rock.00096.wav  [[0, 0, 0, 0, 0, 0, 0, 0, 0, 0, 0, 0, 0, 0, 0]...   \n",
       "1396   rock.00096.wav  [[0, 0, 0, 0, 0, 0, 0, 0, 0, 0, 0, 0, 0, 0, 0]...   \n",
       "1397   rock.00096.wav  [[0, 0, 0, 0, 0, 0, 0, 0, 0, 0, 0, 0, 0, 0, 0]...   \n",
       "1398   rock.00096.wav  [[0, 0, 0, 0, 0, 0, 0, 0, 0, 0, 0, 0, 0, 0, 0]...   \n",
       "1399   rock.00096.wav  [[0, 0, 0, 0, 0, 0, 0, 0, 0, 0, 0, 0, 0, 0, 0]...   \n",
       "\n",
       "      split_id  genre  \n",
       "0            0  blues  \n",
       "1            1  blues  \n",
       "2            2  blues  \n",
       "3            3  blues  \n",
       "4            4  blues  \n",
       "...        ...    ...  \n",
       "1395         9   rock  \n",
       "1396        10   rock  \n",
       "1397        11   rock  \n",
       "1398        12   rock  \n",
       "1399        13   rock  \n",
       "\n",
       "[1400 rows x 4 columns]"
      ]
     },
     "execution_count": 17,
     "metadata": {},
     "output_type": "execute_result"
    }
   ],
   "source": [
    "fetch_data_local(\n",
    "            map_type='mel_map', train=False, angle=angle\n",
    "        )"
   ]
  },
  {
   "cell_type": "code",
   "execution_count": 18,
   "metadata": {},
   "outputs": [
    {
     "name": "stdout",
     "output_type": "stream",
     "text": [
      "Fetching: data_mel_map_angle_0_test.json\n",
      "Fetching: data_mel_map_angle_45_test.json\n",
      "Fetching: data_mel_map_angle_90_test.json\n",
      "Fetching: data_mel_map_angle_135_test.json\n"
     ]
    }
   ],
   "source": [
    "temp = []\n",
    "\n",
    "for i in range(len(angles)):\n",
    "    temp.append(fetch_data_local(\n",
    "            map_type='mel_map', train=False, angle=angles[i]\n",
    "        )['maps'])\n",
    "\n",
    "stacked_mel_maps = (\n",
    "    [\n",
    "        np.stack([\n",
    "            np.squeeze(temp[j][i]) for j in range(len(angles))\n",
    "        ], -1) for i in range(1400)\n",
    "    ]\n",
    ")"
   ]
  },
  {
   "cell_type": "code",
   "execution_count": 19,
   "metadata": {},
   "outputs": [
    {
     "name": "stdout",
     "output_type": "stream",
     "text": [
      "Fetching: data_mel_map_angle_0_test.json\n",
      "Saving to: /Users/arnaudstiegler/Desktop/deep-music-classification/evaluation/evaluation_results/results_mel_map_stacked.csv\n"
     ]
    }
   ],
   "source": [
    "#For stacked model\n",
    "\n",
    "#Fetch the trained model\n",
    "model_path = git_root('models','saved_models',\n",
    "                                  'glcm_{}_stacked.h5'.format(mapping_for_saved_models[map_type],angle))\n",
    "net = load_model(model_path,  custom_objects={'AffineScalar':AffineScalar()})\n",
    "#For some reason, I need to cast my tensor to float32 for predict (and not for fit ?!)\n",
    "#dataset = tf.data.Dataset.from_tensors(tf.dtypes.cast(fetch_format_stacked(train=False), tf.float32))\n",
    "dataset = tf.data.Dataset.from_tensor_slices(tf.dtypes.cast(stacked_mel_maps, tf.float32)).batch(32)\n",
    "#Generate predictions\n",
    "y = net.predict(dataset)\n",
    "preds = pd.DataFrame(y)\n",
    "preds.columns = [\"class{}\".format(i) for i in range(10)]\n",
    "        \n",
    "#Concatenate the prediction to our dataset\n",
    "df = fetch_data_local(map_type='mel_map', train=False, angle='0').loc[:,['filename','split_id','genre']].merge(preds,left_index=True, right_index=True)\n",
    "        \n",
    "save_path=git_root(\"evaluation\",\"evaluation_results\",\"results_{}_{}.csv\".format('mel_map','stacked'))\n",
    "print(\"Saving to: {}\".format(save_path))\n",
    "df.to_csv(save_path)"
   ]
  },
  {
   "cell_type": "markdown",
   "metadata": {},
   "source": [
    "# Results"
   ]
  },
  {
   "cell_type": "code",
   "execution_count": 20,
   "metadata": {},
   "outputs": [],
   "source": [
    "config = load_config()\n",
    "\n",
    "label_names = config[\"genres\"]\n",
    "label_to_idx = dict((name, index) for index, name in enumerate(label_names))\n",
    "idx_to_label = {v: k for k, v in label_to_idx.items()}\n",
    "\n",
    "class_columns = [\"class{}\".format(i) for i in range(10)]"
   ]
  },
  {
   "cell_type": "markdown",
   "metadata": {},
   "source": [
    "**Per Piece**"
   ]
  },
  {
   "cell_type": "code",
   "execution_count": 21,
   "metadata": {},
   "outputs": [],
   "source": [
    "from sklearn.metrics import classification_report\n",
    "\n",
    "piece_level_acc = {\"spectrogram\": {0: {}},\n",
    "    \"mel_map\": {\n",
    "        angle: {} for angle in angles\n",
    "    }}\n",
    "\n",
    "piece_level_acc['mel_map']['stacked'] = {}\n",
    "\n",
    "for map_type in piece_level_acc:\n",
    "    for angle in piece_level_acc[map_type]:\n",
    "        filepath=git_root(\"evaluation\",\"evaluation_results\",\"results_{}_{}.csv\".format(map_type,angle))\n",
    "        df = pd.read_csv(filepath, index_col=0)\n",
    "        \n",
    "        #Generate the label by taking highest prob\n",
    "        df['pred'] = np.argmax(df[class_columns].values, axis=1)\n",
    "        \n",
    "        df['label'] = df['genre'].apply(lambda x: label_to_idx[x])\n",
    "        \n",
    "        report = classification_report(df['label'], df['pred'], output_dict=True)\n",
    "        piece_level_acc[map_type][angle]['accuracy'] = report['accuracy']\n",
    "        \n",
    "        piece_level_acc[map_type][angle]['class_precision'] = {}\n",
    "        \n",
    "        for i in range(10):\n",
    "            piece_level_acc[map_type][angle]['class_precision'][idx_to_label[i]] = report[str(i)]['precision']"
   ]
  },
  {
   "cell_type": "code",
   "execution_count": 22,
   "metadata": {},
   "outputs": [],
   "source": [
    "#Dump the results\n",
    "with open(git_root('evaluation','evaluation_results','glcm_piece_level_results.json'), 'w') as fp:\n",
    "    json.dump(piece_level_acc, fp, indent=4)"
   ]
  },
  {
   "cell_type": "markdown",
   "metadata": {},
   "source": [
    "**Per track**"
   ]
  },
  {
   "cell_type": "code",
   "execution_count": 23,
   "metadata": {},
   "outputs": [],
   "source": [
    "#Generate a table that contains mapping (track: genre)\n",
    "track_mapping = df[['filename','genre']].drop_duplicates().reset_index(drop=True)"
   ]
  },
  {
   "cell_type": "code",
   "execution_count": 24,
   "metadata": {},
   "outputs": [],
   "source": [
    "track_level_acc = {\"spectrogram\": {0: {}},\n",
    "    \"mel_map\": {\n",
    "        angle: {} for angle in angles\n",
    "    }}\n",
    "\n",
    "track_level_acc['mel_map']['stacked'] = {}\n",
    "\n",
    "for map_type in track_level_acc:\n",
    "    for angle in track_level_acc[map_type]:\n",
    "        filepath=git_root(\"evaluation\",\"evaluation_results\",\"results_{}_{}.csv\".format(map_type,angle))\n",
    "        df = pd.read_csv(filepath, index_col=0)\n",
    "        #Group by track to get track_level probs\n",
    "        #Note that we SUM the probs (rather than AVG them)\n",
    "        df_per_track = df.groupby('filename').sum()\n",
    "        #Label is the highest prob\n",
    "        df_per_track['pred'] = np.argmax(df_per_track[class_columns].values, axis=1)\n",
    "        #Merge back to get the track_names\n",
    "        df_result = df_per_track.merge(track_mapping, on='filename')\n",
    "        df_result['label'] = df_result['genre'].apply(lambda x: label_to_idx[x])\n",
    "        \n",
    "        report = classification_report(df_result['label'], df_result['pred'], output_dict=True)\n",
    "        track_level_acc[map_type][angle]['accuracy'] = report['accuracy']\n",
    "        \n",
    "        track_level_acc[map_type][angle]['class_precision'] = {}\n",
    "        \n",
    "        for i in range(10):\n",
    "            track_level_acc[map_type][angle]['class_precision'][idx_to_label[i]] = report[str(i)]['precision']"
   ]
  },
  {
   "cell_type": "code",
   "execution_count": 25,
   "metadata": {},
   "outputs": [],
   "source": [
    "#Dump the results\n",
    "with open(git_root('evaluation','evaluation_results','glcm_track_level_results.json'), 'w') as fp:\n",
    "    json.dump(track_level_acc, fp, indent=4)"
   ]
  },
  {
   "cell_type": "code",
   "execution_count": 26,
   "metadata": {},
   "outputs": [
    {
     "data": {
      "text/plain": [
       "{'spectrogram': {0: {'accuracy': 0.5,\n",
       "   'class_precision': {'blues': 0.5,\n",
       "    'classical': 0.9,\n",
       "    'country': 1.0,\n",
       "    'disco': 0.42857142857142855,\n",
       "    'hiphop': 0.5,\n",
       "    'jazz': 0.4666666666666667,\n",
       "    'metal': 0.8181818181818182,\n",
       "    'pop': 0.34782608695652173,\n",
       "    'reggae': 0.4666666666666667,\n",
       "    'rock': 0.09090909090909091}}},\n",
       " 'mel_map': {0: {'accuracy': 0.52,\n",
       "   'class_precision': {'blues': 0.8333333333333334,\n",
       "    'classical': 0.8181818181818182,\n",
       "    'country': 0.5,\n",
       "    'disco': 0.5,\n",
       "    'hiphop': 0.3333333333333333,\n",
       "    'jazz': 0.5454545454545454,\n",
       "    'metal': 0.7692307692307693,\n",
       "    'pop': 0.3076923076923077,\n",
       "    'reggae': 0.42857142857142855,\n",
       "    'rock': 0.25}},\n",
       "  45: {'accuracy': 0.42,\n",
       "   'class_precision': {'blues': 0.5,\n",
       "    'classical': 0.6153846153846154,\n",
       "    'country': 0.2,\n",
       "    'disco': 0.2,\n",
       "    'hiphop': 0.2,\n",
       "    'jazz': 0.5,\n",
       "    'metal': 0.7692307692307693,\n",
       "    'pop': 0.36,\n",
       "    'reggae': 0.4166666666666667,\n",
       "    'rock': 0.1}},\n",
       "  90: {'accuracy': 0.41,\n",
       "   'class_precision': {'blues': 0.3333333333333333,\n",
       "    'classical': 0.6666666666666666,\n",
       "    'country': 0.0,\n",
       "    'disco': 0.16666666666666666,\n",
       "    'hiphop': 0.2727272727272727,\n",
       "    'jazz': 0.5,\n",
       "    'metal': 0.6923076923076923,\n",
       "    'pop': 0.375,\n",
       "    'reggae': 0.375,\n",
       "    'rock': 0.1111111111111111}},\n",
       "  135: {'accuracy': 0.46,\n",
       "   'class_precision': {'blues': 0.5,\n",
       "    'classical': 0.6923076923076923,\n",
       "    'country': 0.5,\n",
       "    'disco': 0.2857142857142857,\n",
       "    'hiphop': 0.0,\n",
       "    'jazz': 0.5,\n",
       "    'metal': 0.7692307692307693,\n",
       "    'pop': 0.34782608695652173,\n",
       "    'reggae': 0.3333333333333333,\n",
       "    'rock': 0.2}},\n",
       "  'stacked': {'accuracy': 0.5,\n",
       "   'class_precision': {'blues': 0.6,\n",
       "    'classical': 0.6,\n",
       "    'country': 0.4444444444444444,\n",
       "    'disco': 0.6666666666666666,\n",
       "    'hiphop': 0.6,\n",
       "    'jazz': 0.5,\n",
       "    'metal': 0.7692307692307693,\n",
       "    'pop': 0.32,\n",
       "    'reggae': 0.5,\n",
       "    'rock': 0.2}}}}"
      ]
     },
     "execution_count": 26,
     "metadata": {},
     "output_type": "execute_result"
    }
   ],
   "source": [
    "track_level_acc"
   ]
  },
  {
   "cell_type": "code",
   "execution_count": null,
   "metadata": {},
   "outputs": [],
   "source": []
  }
 ],
 "metadata": {
  "kernelspec": {
   "display_name": "Python [conda env:music_classification]",
   "language": "python",
   "name": "conda-env-music_classification-py"
  },
  "language_info": {
   "codemirror_mode": {
    "name": "ipython",
    "version": 3
   },
   "file_extension": ".py",
   "mimetype": "text/x-python",
   "name": "python",
   "nbconvert_exporter": "python",
   "pygments_lexer": "ipython3",
   "version": "3.7.5"
  }
 },
 "nbformat": 4,
 "nbformat_minor": 2
}
