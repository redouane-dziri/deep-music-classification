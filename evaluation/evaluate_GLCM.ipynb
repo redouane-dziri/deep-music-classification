{
 "cells": [
  {
   "cell_type": "code",
   "execution_count": 1,
   "metadata": {},
   "outputs": [
    {
     "name": "stdout",
     "output_type": "stream",
     "text": [
      "2.0.0\n"
     ]
    }
   ],
   "source": [
    "import sys\n",
    "import os\n",
    "from git_root import git_root\n",
    "\n",
    "import numpy as np\n",
    "import pandas as pd\n",
    "import matplotlib.pyplot as plt\n",
    "import tensorflow as tf\n",
    "\n",
    "from tensorflow.keras.optimizers import Adam\n",
    "\n",
    "sys.path.append(git_root(\"utils\"))\n",
    "from utils import load_params, load_config\n",
    "\n",
    "sys.path.append(git_root(\"training\"))\n",
    "from fetch_data import fetch_data_local, fetch_format_stacked\n",
    "from fetch_data import to_numpy_arrays, prepare_tf_dataset\n",
    "\n",
    "print(tf.__version__)"
   ]
  },
  {
   "cell_type": "markdown",
   "metadata": {},
   "source": [
    "# Generating the predictions for the test sets"
   ]
  },
  {
   "cell_type": "code",
   "execution_count": 2,
   "metadata": {},
   "outputs": [],
   "source": [
    "params = load_params()\n",
    "\n",
    "angles = params[\"GLCM\"][\"mel_map\"][\"angles_in_deg\"]\n",
    "\n",
    "test = {\n",
    "    \"spectrogram\": {0: []},\n",
    "    \"mel_map\": {\n",
    "        angle: [] for angle in angles\n",
    "    }\n",
    "}"
   ]
  },
  {
   "cell_type": "code",
   "execution_count": 3,
   "metadata": {
    "scrolled": true
   },
   "outputs": [
    {
     "name": "stdout",
     "output_type": "stream",
     "text": [
      "Map: spectrogram, angle: 0\n",
      "Fetching: data_spectrogram_angle_0_test.json\n",
      "Saving to: /Users/arnaudstiegler/Desktop/deep-music-classification/evaluation/evaluation_results/results_spectrogram_0.csv\n",
      "Map: mel_map, angle: 0\n",
      "Fetching: data_mel_map_angle_0_test.json\n",
      "Saving to: /Users/arnaudstiegler/Desktop/deep-music-classification/evaluation/evaluation_results/results_mel_map_0.csv\n",
      "Map: mel_map, angle: 45\n",
      "Fetching: data_mel_map_angle_45_test.json\n",
      "Saving to: /Users/arnaudstiegler/Desktop/deep-music-classification/evaluation/evaluation_results/results_mel_map_45.csv\n",
      "Map: mel_map, angle: 90\n",
      "Fetching: data_mel_map_angle_90_test.json\n",
      "Saving to: /Users/arnaudstiegler/Desktop/deep-music-classification/evaluation/evaluation_results/results_mel_map_90.csv\n",
      "Map: mel_map, angle: 135\n",
      "Fetching: data_mel_map_angle_135_test.json\n",
      "Saving to: /Users/arnaudstiegler/Desktop/deep-music-classification/evaluation/evaluation_results/results_mel_map_135.csv\n"
     ]
    }
   ],
   "source": [
    "from tensorflow.keras.models import load_model\n",
    "sys.path.append(git_root(\"models\"))\n",
    "from affine_scalar_layer import AffineScalar\n",
    "\n",
    "\n",
    "mapping_for_saved_models = {'spectrogram': 'spec',\n",
    "                           'mel_map': 'mel'}\n",
    "\n",
    "for map_type in test:\n",
    "    for angle in test[map_type]:\n",
    "        #Fetch the data\n",
    "        print(f\"Map: {map_type}, angle: {angle}\")\n",
    "        df = fetch_data_local(\n",
    "            map_type=map_type, train=False, angle=angle\n",
    "        )\n",
    "        #Fetch the trained model\n",
    "        model_path = git_root('models','saved_models',\n",
    "                                  'glcm_{}_angle{}.h5'.format(mapping_for_saved_models[map_type],angle))\n",
    "        net = load_model(model_path,  custom_objects={'AffineScalar':AffineScalar()})\n",
    "        #For some reason, I need to cast my tensor to float32 for predict (and not for fit ?!)\n",
    "        dataset = tf.data.Dataset.from_tensors(tf.dtypes.cast(to_numpy_arrays(df)[0], tf.float32))\n",
    "        #Generate predictions\n",
    "        y = net.predict(dataset)\n",
    "        preds = pd.DataFrame(y)\n",
    "        preds.columns = [\"class{}\".format(i) for i in range(10)]\n",
    "        \n",
    "        #Concatenate the prediction to our dataset\n",
    "        df = df.merge(preds, left_index=True, right_index=True)\n",
    "        df = df.drop(['maps'], axis=1)\n",
    "        \n",
    "        save_path=git_root(\"evaluation\",\"evaluation_results\",\"results_{}_{}.csv\".format(map_type,angle))\n",
    "        print(\"Saving to: {}\".format(save_path))\n",
    "        df.to_csv(save_path)"
   ]
  },
  {
   "cell_type": "code",
   "execution_count": 4,
   "metadata": {},
   "outputs": [
    {
     "name": "stdout",
     "output_type": "stream",
     "text": [
      "Fetching: data_mel_map_angle_135_test.json\n"
     ]
    },
    {
     "data": {
      "text/html": [
       "<div>\n",
       "<style scoped>\n",
       "    .dataframe tbody tr th:only-of-type {\n",
       "        vertical-align: middle;\n",
       "    }\n",
       "\n",
       "    .dataframe tbody tr th {\n",
       "        vertical-align: top;\n",
       "    }\n",
       "\n",
       "    .dataframe thead th {\n",
       "        text-align: right;\n",
       "    }\n",
       "</style>\n",
       "<table border=\"1\" class=\"dataframe\">\n",
       "  <thead>\n",
       "    <tr style=\"text-align: right;\">\n",
       "      <th></th>\n",
       "      <th>filename</th>\n",
       "      <th>maps</th>\n",
       "      <th>split_id</th>\n",
       "      <th>genre</th>\n",
       "    </tr>\n",
       "  </thead>\n",
       "  <tbody>\n",
       "    <tr>\n",
       "      <th>0</th>\n",
       "      <td>blues.00018.wav</td>\n",
       "      <td>[[0, 0, 0, 0, 0, 0, 0, 0, 0, 0, 0, 0, 0, 0, 0]...</td>\n",
       "      <td>0</td>\n",
       "      <td>blues</td>\n",
       "    </tr>\n",
       "    <tr>\n",
       "      <th>1</th>\n",
       "      <td>blues.00018.wav</td>\n",
       "      <td>[[0, 0, 0, 0, 0, 0, 0, 0, 0, 0, 0, 0, 0, 0, 0]...</td>\n",
       "      <td>1</td>\n",
       "      <td>blues</td>\n",
       "    </tr>\n",
       "    <tr>\n",
       "      <th>2</th>\n",
       "      <td>blues.00018.wav</td>\n",
       "      <td>[[0, 0, 0, 0, 0, 0, 0, 0, 0, 0, 0, 0, 0, 0, 0]...</td>\n",
       "      <td>2</td>\n",
       "      <td>blues</td>\n",
       "    </tr>\n",
       "    <tr>\n",
       "      <th>3</th>\n",
       "      <td>blues.00018.wav</td>\n",
       "      <td>[[0, 0, 0, 0, 0, 0, 0, 0, 0, 0, 0, 0, 0, 0, 0]...</td>\n",
       "      <td>3</td>\n",
       "      <td>blues</td>\n",
       "    </tr>\n",
       "    <tr>\n",
       "      <th>4</th>\n",
       "      <td>blues.00018.wav</td>\n",
       "      <td>[[0, 0, 0, 0, 0, 0, 0, 0, 0, 0, 0, 0, 0, 0, 0]...</td>\n",
       "      <td>4</td>\n",
       "      <td>blues</td>\n",
       "    </tr>\n",
       "    <tr>\n",
       "      <th>...</th>\n",
       "      <td>...</td>\n",
       "      <td>...</td>\n",
       "      <td>...</td>\n",
       "      <td>...</td>\n",
       "    </tr>\n",
       "    <tr>\n",
       "      <th>1395</th>\n",
       "      <td>rock.00096.wav</td>\n",
       "      <td>[[0, 0, 0, 0, 0, 0, 0, 0, 0, 0, 0, 0, 0, 0, 0]...</td>\n",
       "      <td>9</td>\n",
       "      <td>rock</td>\n",
       "    </tr>\n",
       "    <tr>\n",
       "      <th>1396</th>\n",
       "      <td>rock.00096.wav</td>\n",
       "      <td>[[0, 0, 0, 0, 0, 0, 0, 0, 0, 0, 0, 0, 0, 0, 0]...</td>\n",
       "      <td>10</td>\n",
       "      <td>rock</td>\n",
       "    </tr>\n",
       "    <tr>\n",
       "      <th>1397</th>\n",
       "      <td>rock.00096.wav</td>\n",
       "      <td>[[0, 0, 0, 0, 0, 0, 0, 0, 0, 0, 0, 0, 0, 0, 0]...</td>\n",
       "      <td>11</td>\n",
       "      <td>rock</td>\n",
       "    </tr>\n",
       "    <tr>\n",
       "      <th>1398</th>\n",
       "      <td>rock.00096.wav</td>\n",
       "      <td>[[0, 0, 0, 0, 0, 0, 0, 0, 0, 0, 0, 0, 0, 0, 0]...</td>\n",
       "      <td>12</td>\n",
       "      <td>rock</td>\n",
       "    </tr>\n",
       "    <tr>\n",
       "      <th>1399</th>\n",
       "      <td>rock.00096.wav</td>\n",
       "      <td>[[0, 0, 0, 0, 0, 0, 0, 0, 0, 0, 0, 0, 0, 0, 0]...</td>\n",
       "      <td>13</td>\n",
       "      <td>rock</td>\n",
       "    </tr>\n",
       "  </tbody>\n",
       "</table>\n",
       "<p>1400 rows × 4 columns</p>\n",
       "</div>"
      ],
      "text/plain": [
       "             filename                                               maps  \\\n",
       "0     blues.00018.wav  [[0, 0, 0, 0, 0, 0, 0, 0, 0, 0, 0, 0, 0, 0, 0]...   \n",
       "1     blues.00018.wav  [[0, 0, 0, 0, 0, 0, 0, 0, 0, 0, 0, 0, 0, 0, 0]...   \n",
       "2     blues.00018.wav  [[0, 0, 0, 0, 0, 0, 0, 0, 0, 0, 0, 0, 0, 0, 0]...   \n",
       "3     blues.00018.wav  [[0, 0, 0, 0, 0, 0, 0, 0, 0, 0, 0, 0, 0, 0, 0]...   \n",
       "4     blues.00018.wav  [[0, 0, 0, 0, 0, 0, 0, 0, 0, 0, 0, 0, 0, 0, 0]...   \n",
       "...               ...                                                ...   \n",
       "1395   rock.00096.wav  [[0, 0, 0, 0, 0, 0, 0, 0, 0, 0, 0, 0, 0, 0, 0]...   \n",
       "1396   rock.00096.wav  [[0, 0, 0, 0, 0, 0, 0, 0, 0, 0, 0, 0, 0, 0, 0]...   \n",
       "1397   rock.00096.wav  [[0, 0, 0, 0, 0, 0, 0, 0, 0, 0, 0, 0, 0, 0, 0]...   \n",
       "1398   rock.00096.wav  [[0, 0, 0, 0, 0, 0, 0, 0, 0, 0, 0, 0, 0, 0, 0]...   \n",
       "1399   rock.00096.wav  [[0, 0, 0, 0, 0, 0, 0, 0, 0, 0, 0, 0, 0, 0, 0]...   \n",
       "\n",
       "      split_id  genre  \n",
       "0            0  blues  \n",
       "1            1  blues  \n",
       "2            2  blues  \n",
       "3            3  blues  \n",
       "4            4  blues  \n",
       "...        ...    ...  \n",
       "1395         9   rock  \n",
       "1396        10   rock  \n",
       "1397        11   rock  \n",
       "1398        12   rock  \n",
       "1399        13   rock  \n",
       "\n",
       "[1400 rows x 4 columns]"
      ]
     },
     "execution_count": 4,
     "metadata": {},
     "output_type": "execute_result"
    }
   ],
   "source": [
    "fetch_data_local(\n",
    "            map_type='mel_map', train=False, angle=angle\n",
    "        )"
   ]
  },
  {
   "cell_type": "code",
   "execution_count": 7,
   "metadata": {},
   "outputs": [
    {
     "name": "stdout",
     "output_type": "stream",
     "text": [
      "Fetching: data_mel_map_angle_0_test.json\n",
      "Fetching: data_mel_map_angle_45_test.json\n",
      "Fetching: data_mel_map_angle_90_test.json\n",
      "Fetching: data_mel_map_angle_135_test.json\n"
     ]
    }
   ],
   "source": [
    "temp = []\n",
    "\n",
    "for i in range(len(angles)):\n",
    "    temp.append(fetch_data_local(\n",
    "            map_type='mel_map', train=False, angle=angles[i]\n",
    "        )['maps'])\n",
    "\n",
    "stacked_test = (\n",
    "    [\n",
    "        np.stack([\n",
    "            np.squeeze(temp[j][i]) for j in range(len(angles))\n",
    "        ], -1) for i in range(1400)\n",
    "    ]\n",
    ")"
   ]
  },
  {
   "cell_type": "code",
   "execution_count": 8,
   "metadata": {},
   "outputs": [
    {
     "data": {
      "text/plain": [
       "<BatchDataset shapes: (None, 15, 15, 4), types: tf.float32>"
      ]
     },
     "execution_count": 8,
     "metadata": {},
     "output_type": "execute_result"
    }
   ],
   "source": [
    "dataset = tf.data.Dataset.from_tensor_slices(tf.dtypes.cast(stacked_test, tf.float32)).batch(32)\n",
    "dataset"
   ]
  },
  {
   "cell_type": "code",
   "execution_count": 9,
   "metadata": {},
   "outputs": [
    {
     "name": "stdout",
     "output_type": "stream",
     "text": [
      "Fetching: data_mel_map_angle_0_test.json\n",
      "Saving to: /Users/arnaudstiegler/Desktop/deep-music-classification/evaluation/evaluation_results/results_mel_map_stacked.csv\n"
     ]
    }
   ],
   "source": [
    "#For stacked model\n",
    "\n",
    "#Fetch the trained model\n",
    "model_path = git_root('models','saved_models',\n",
    "                                  'glcm_{}_stacked.h5'.format(mapping_for_saved_models[map_type],angle))\n",
    "net = load_model(model_path,  custom_objects={'AffineScalar':AffineScalar()})\n",
    "#For some reason, I need to cast my tensor to float32 for predict (and not for fit ?!)\n",
    "#dataset = tf.data.Dataset.from_tensors(tf.dtypes.cast(fetch_format_stacked(train=False), tf.float32))\n",
    "dataset = tf.data.Dataset.from_tensor_slices(tf.dtypes.cast(stacked_test, tf.float32)).batch(32)\n",
    "#Generate predictions\n",
    "y = net.predict(dataset)\n",
    "preds = pd.DataFrame(y)\n",
    "preds.columns = [\"class{}\".format(i) for i in range(10)]\n",
    "        \n",
    "#Concatenate the prediction to our dataset\n",
    "df = fetch_data_local(map_type='mel_map', train=False, angle='0').loc[:,['filename','split_id','genre']].merge(preds,left_index=True, right_index=True)\n",
    "        \n",
    "save_path=git_root(\"evaluation\",\"evaluation_results\",\"results_{}_{}.csv\".format('mel_map','stacked'))\n",
    "print(\"Saving to: {}\".format(save_path))\n",
    "df.to_csv(save_path)"
   ]
  },
  {
   "cell_type": "markdown",
   "metadata": {},
   "source": [
    "# Results"
   ]
  },
  {
   "cell_type": "code",
   "execution_count": 10,
   "metadata": {},
   "outputs": [],
   "source": [
    "config = load_config()\n",
    "\n",
    "label_names = config[\"genres\"]\n",
    "label_to_idx = dict((name, index) for index, name in enumerate(label_names))\n",
    "\n",
    "class_columns = [\"class{}\".format(i) for i in range(10)]"
   ]
  },
  {
   "cell_type": "markdown",
   "metadata": {},
   "source": [
    "**Per Piece**"
   ]
  },
  {
   "cell_type": "code",
   "execution_count": 11,
   "metadata": {},
   "outputs": [
    {
     "name": "stdout",
     "output_type": "stream",
     "text": [
      "              precision    recall  f1-score   support\n",
      "\n",
      "           0       0.50      0.19      0.28       140\n",
      "           1       0.84      0.89      0.86       140\n",
      "           2       0.46      0.24      0.31       140\n",
      "           3       0.34      0.26      0.30       140\n",
      "           4       0.26      0.11      0.15       140\n",
      "           5       0.46      0.59      0.52       140\n",
      "           6       0.79      0.88      0.83       140\n",
      "           7       0.37      0.81      0.51       140\n",
      "           8       0.41      0.58      0.48       140\n",
      "           9       0.12      0.11      0.11       140\n",
      "\n",
      "    accuracy                           0.46      1400\n",
      "   macro avg       0.46      0.46      0.44      1400\n",
      "weighted avg       0.46      0.46      0.44      1400\n",
      "\n",
      "              precision    recall  f1-score   support\n",
      "\n",
      "           0       0.62      0.37      0.46       140\n",
      "           1       0.73      0.77      0.75       140\n",
      "           2       0.37      0.31      0.34       140\n",
      "           3       0.35      0.13      0.19       140\n",
      "           4       0.28      0.13      0.18       140\n",
      "           5       0.40      0.41      0.41       140\n",
      "           6       0.73      0.77      0.75       140\n",
      "           7       0.34      0.78      0.48       140\n",
      "           8       0.38      0.53      0.44       140\n",
      "           9       0.18      0.17      0.18       140\n",
      "\n",
      "    accuracy                           0.44      1400\n",
      "   macro avg       0.44      0.44      0.42      1400\n",
      "weighted avg       0.44      0.44      0.42      1400\n",
      "\n",
      "              precision    recall  f1-score   support\n",
      "\n",
      "           0       0.49      0.19      0.27       140\n",
      "           1       0.61      0.65      0.63       140\n",
      "           2       0.26      0.19      0.22       140\n",
      "           3       0.23      0.16      0.19       140\n",
      "           4       0.25      0.16      0.20       140\n",
      "           5       0.39      0.40      0.40       140\n",
      "           6       0.76      0.88      0.81       140\n",
      "           7       0.38      0.83      0.52       140\n",
      "           8       0.36      0.41      0.38       140\n",
      "           9       0.16      0.15      0.15       140\n",
      "\n",
      "    accuracy                           0.40      1400\n",
      "   macro avg       0.39      0.40      0.38      1400\n",
      "weighted avg       0.39      0.40      0.38      1400\n",
      "\n",
      "              precision    recall  f1-score   support\n",
      "\n",
      "           0       0.51      0.25      0.34       140\n",
      "           1       0.67      0.56      0.61       140\n",
      "           2       0.28      0.15      0.20       140\n",
      "           3       0.16      0.09      0.11       140\n",
      "           4       0.22      0.20      0.21       140\n",
      "           5       0.37      0.45      0.41       140\n",
      "           6       0.71      0.71      0.71       140\n",
      "           7       0.37      0.84      0.52       140\n",
      "           8       0.36      0.39      0.38       140\n",
      "           9       0.17      0.20      0.19       140\n",
      "\n",
      "    accuracy                           0.38      1400\n",
      "   macro avg       0.38      0.38      0.37      1400\n",
      "weighted avg       0.38      0.38      0.37      1400\n",
      "\n",
      "              precision    recall  f1-score   support\n",
      "\n",
      "           0       0.52      0.17      0.26       140\n",
      "           1       0.65      0.72      0.68       140\n",
      "           2       0.34      0.28      0.31       140\n",
      "           3       0.26      0.17      0.21       140\n",
      "           4       0.15      0.06      0.08       140\n",
      "           5       0.40      0.48      0.44       140\n",
      "           6       0.76      0.82      0.79       140\n",
      "           7       0.31      0.69      0.43       140\n",
      "           8       0.33      0.45      0.38       140\n",
      "           9       0.22      0.19      0.20       140\n",
      "\n",
      "    accuracy                           0.40      1400\n",
      "   macro avg       0.39      0.40      0.38      1400\n",
      "weighted avg       0.39      0.40      0.38      1400\n",
      "\n",
      "              precision    recall  f1-score   support\n",
      "\n",
      "           0       0.53      0.31      0.39       140\n",
      "           1       0.79      0.77      0.78       140\n",
      "           2       0.24      0.07      0.11       140\n",
      "           3       0.13      0.06      0.08       140\n",
      "           4       0.18      0.12      0.15       140\n",
      "           5       0.41      0.39      0.40       140\n",
      "           6       0.66      0.74      0.70       140\n",
      "           7       0.39      0.77      0.52       140\n",
      "           8       0.36      0.53      0.43       140\n",
      "           9       0.12      0.18      0.14       140\n",
      "\n",
      "    accuracy                           0.39      1400\n",
      "   macro avg       0.38      0.39      0.37      1400\n",
      "weighted avg       0.38      0.39      0.37      1400\n",
      "\n"
     ]
    }
   ],
   "source": [
    "from sklearn.metrics import accuracy_score\n",
    "from sklearn.metrics import classification_report\n",
    "\n",
    "piece_level_acc = {'spectrogram':{},\n",
    "                      'mel_map': {}}\n",
    "\n",
    "test['mel_map']['stacked'] = {}\n",
    "\n",
    "for map_type in test:\n",
    "    for angle in test[map_type]:\n",
    "        filepath=git_root(\"evaluation\",\"evaluation_results\",\"results_{}_{}.csv\".format(map_type,angle))\n",
    "        df = pd.read_csv(filepath, index_col=0)\n",
    "        df['pred'] = np.argmax(df[class_columns].values, axis=1)\n",
    "        df['label'] = df['genre'].apply(lambda x: label_to_idx[x])\n",
    "        piece_level_acc[map_type][angle] = accuracy_score(df['label'], df['pred'])\n",
    "        \n",
    "        print(classification_report(df['label'], df['pred']))"
   ]
  },
  {
   "cell_type": "code",
   "execution_count": 12,
   "metadata": {},
   "outputs": [
    {
     "data": {
      "text/plain": [
       "{'spectrogram': {0: 0.4642857142857143},\n",
       " 'mel_map': {0: 0.43785714285714283,\n",
       "  45: 0.40214285714285714,\n",
       "  90: 0.38357142857142856,\n",
       "  135: 0.40285714285714286,\n",
       "  'stacked': 0.39357142857142857}}"
      ]
     },
     "execution_count": 12,
     "metadata": {},
     "output_type": "execute_result"
    }
   ],
   "source": [
    "piece_level_acc"
   ]
  },
  {
   "cell_type": "markdown",
   "metadata": {},
   "source": [
    "**Per track**"
   ]
  },
  {
   "cell_type": "code",
   "execution_count": 13,
   "metadata": {},
   "outputs": [],
   "source": [
    "#Generate a table that contains mapping (track: genre)\n",
    "track_mapping = df[['filename','genre']].drop_duplicates().reset_index(drop=True)"
   ]
  },
  {
   "cell_type": "code",
   "execution_count": 14,
   "metadata": {},
   "outputs": [
    {
     "name": "stdout",
     "output_type": "stream",
     "text": [
      "{'spectrogram': {0: 0.5}, 'mel_map': {0: 0.52, 45: 0.42, 90: 0.41, 135: 0.46, 'stacked': 0.43}}\n"
     ]
    }
   ],
   "source": [
    "track_level_acc = {'spectrogram':{},\n",
    "                      'mel_map': {}}\n",
    "\n",
    "for map_type in test:\n",
    "    for angle in test[map_type]:\n",
    "        filepath=git_root(\"evaluation\",\"evaluation_results\",\"results_{}_{}.csv\".format(map_type,angle))\n",
    "        df = pd.read_csv(filepath, index_col=0)\n",
    "        df_per_track = df.groupby('filename').sum()\n",
    "        df_per_track['pred'] = np.argmax(df_per_track[class_columns].values, axis=1)\n",
    "        df_result = df_per_track.merge(track_mapping, on='filename')\n",
    "        df_result['label'] = df_result['genre'].apply(lambda x: label_to_idx[x])\n",
    "        track_level_acc[map_type][angle] = accuracy_score(df_result['label'], df_result['pred'])\n",
    "\n",
    "print(track_level_acc)"
   ]
  },
  {
   "cell_type": "markdown",
   "metadata": {},
   "source": [
    "**Per genre**"
   ]
  },
  {
   "cell_type": "code",
   "execution_count": 60,
   "metadata": {},
   "outputs": [
    {
     "ename": "KeyError",
     "evalue": "'filename'",
     "output_type": "error",
     "traceback": [
      "\u001b[0;31m---------------------------------------------------------------------------\u001b[0m",
      "\u001b[0;31mKeyError\u001b[0m                                  Traceback (most recent call last)",
      "\u001b[0;32m<ipython-input-60-462a7a5d7d92>\u001b[0m in \u001b[0;36m<module>\u001b[0;34m\u001b[0m\n\u001b[1;32m      8\u001b[0m         \u001b[0mdf_per_track\u001b[0m \u001b[0;34m=\u001b[0m \u001b[0mdf\u001b[0m\u001b[0;34m.\u001b[0m\u001b[0mgroupby\u001b[0m\u001b[0;34m(\u001b[0m\u001b[0;34m'genre'\u001b[0m\u001b[0;34m)\u001b[0m\u001b[0;34m.\u001b[0m\u001b[0msum\u001b[0m\u001b[0;34m(\u001b[0m\u001b[0;34m)\u001b[0m\u001b[0;34m\u001b[0m\u001b[0;34m\u001b[0m\u001b[0m\n\u001b[1;32m      9\u001b[0m         \u001b[0mdf_per_track\u001b[0m\u001b[0;34m[\u001b[0m\u001b[0;34m'pred'\u001b[0m\u001b[0;34m]\u001b[0m \u001b[0;34m=\u001b[0m \u001b[0mnp\u001b[0m\u001b[0;34m.\u001b[0m\u001b[0margmax\u001b[0m\u001b[0;34m(\u001b[0m\u001b[0mdf_per_track\u001b[0m\u001b[0;34m[\u001b[0m\u001b[0mclass_columns\u001b[0m\u001b[0;34m]\u001b[0m\u001b[0;34m.\u001b[0m\u001b[0mvalues\u001b[0m\u001b[0;34m,\u001b[0m \u001b[0maxis\u001b[0m\u001b[0;34m=\u001b[0m\u001b[0;36m1\u001b[0m\u001b[0;34m)\u001b[0m\u001b[0;34m\u001b[0m\u001b[0;34m\u001b[0m\u001b[0m\n\u001b[0;32m---> 10\u001b[0;31m         \u001b[0mdf_result\u001b[0m \u001b[0;34m=\u001b[0m \u001b[0mdf_per_track\u001b[0m\u001b[0;34m.\u001b[0m\u001b[0mmerge\u001b[0m\u001b[0;34m(\u001b[0m\u001b[0mtrack_mapping\u001b[0m\u001b[0;34m,\u001b[0m \u001b[0mon\u001b[0m\u001b[0;34m=\u001b[0m\u001b[0;34m'filename'\u001b[0m\u001b[0;34m)\u001b[0m\u001b[0;34m\u001b[0m\u001b[0;34m\u001b[0m\u001b[0m\n\u001b[0m\u001b[1;32m     11\u001b[0m         \u001b[0mdf_result\u001b[0m\u001b[0;34m[\u001b[0m\u001b[0;34m'label'\u001b[0m\u001b[0;34m]\u001b[0m \u001b[0;34m=\u001b[0m \u001b[0mdf_result\u001b[0m\u001b[0;34m[\u001b[0m\u001b[0;34m'genre'\u001b[0m\u001b[0;34m]\u001b[0m\u001b[0;34m.\u001b[0m\u001b[0mapply\u001b[0m\u001b[0;34m(\u001b[0m\u001b[0;32mlambda\u001b[0m \u001b[0mx\u001b[0m\u001b[0;34m:\u001b[0m \u001b[0mlabel_to_idx\u001b[0m\u001b[0;34m[\u001b[0m\u001b[0mx\u001b[0m\u001b[0;34m]\u001b[0m\u001b[0;34m)\u001b[0m\u001b[0;34m\u001b[0m\u001b[0;34m\u001b[0m\u001b[0m\n\u001b[1;32m     12\u001b[0m         \u001b[0mtrack_level_acc\u001b[0m\u001b[0;34m[\u001b[0m\u001b[0mmap_type\u001b[0m\u001b[0;34m]\u001b[0m\u001b[0;34m[\u001b[0m\u001b[0mangle\u001b[0m\u001b[0;34m]\u001b[0m \u001b[0;34m=\u001b[0m \u001b[0maccuracy_score\u001b[0m\u001b[0;34m(\u001b[0m\u001b[0mdf_result\u001b[0m\u001b[0;34m[\u001b[0m\u001b[0;34m'label'\u001b[0m\u001b[0;34m]\u001b[0m\u001b[0;34m,\u001b[0m \u001b[0mdf_result\u001b[0m\u001b[0;34m[\u001b[0m\u001b[0;34m'pred'\u001b[0m\u001b[0;34m]\u001b[0m\u001b[0;34m)\u001b[0m\u001b[0;34m\u001b[0m\u001b[0;34m\u001b[0m\u001b[0m\n",
      "\u001b[0;32m~/miniconda3/envs/music_classification/lib/python3.7/site-packages/pandas/core/frame.py\u001b[0m in \u001b[0;36mmerge\u001b[0;34m(self, right, how, on, left_on, right_on, left_index, right_index, sort, suffixes, copy, indicator, validate)\u001b[0m\n\u001b[1;32m   7347\u001b[0m             \u001b[0mcopy\u001b[0m\u001b[0;34m=\u001b[0m\u001b[0mcopy\u001b[0m\u001b[0;34m,\u001b[0m\u001b[0;34m\u001b[0m\u001b[0;34m\u001b[0m\u001b[0m\n\u001b[1;32m   7348\u001b[0m             \u001b[0mindicator\u001b[0m\u001b[0;34m=\u001b[0m\u001b[0mindicator\u001b[0m\u001b[0;34m,\u001b[0m\u001b[0;34m\u001b[0m\u001b[0;34m\u001b[0m\u001b[0m\n\u001b[0;32m-> 7349\u001b[0;31m             \u001b[0mvalidate\u001b[0m\u001b[0;34m=\u001b[0m\u001b[0mvalidate\u001b[0m\u001b[0;34m,\u001b[0m\u001b[0;34m\u001b[0m\u001b[0;34m\u001b[0m\u001b[0m\n\u001b[0m\u001b[1;32m   7350\u001b[0m         )\n\u001b[1;32m   7351\u001b[0m \u001b[0;34m\u001b[0m\u001b[0m\n",
      "\u001b[0;32m~/miniconda3/envs/music_classification/lib/python3.7/site-packages/pandas/core/reshape/merge.py\u001b[0m in \u001b[0;36mmerge\u001b[0;34m(left, right, how, on, left_on, right_on, left_index, right_index, sort, suffixes, copy, indicator, validate)\u001b[0m\n\u001b[1;32m     79\u001b[0m         \u001b[0mcopy\u001b[0m\u001b[0;34m=\u001b[0m\u001b[0mcopy\u001b[0m\u001b[0;34m,\u001b[0m\u001b[0;34m\u001b[0m\u001b[0;34m\u001b[0m\u001b[0m\n\u001b[1;32m     80\u001b[0m         \u001b[0mindicator\u001b[0m\u001b[0;34m=\u001b[0m\u001b[0mindicator\u001b[0m\u001b[0;34m,\u001b[0m\u001b[0;34m\u001b[0m\u001b[0;34m\u001b[0m\u001b[0m\n\u001b[0;32m---> 81\u001b[0;31m         \u001b[0mvalidate\u001b[0m\u001b[0;34m=\u001b[0m\u001b[0mvalidate\u001b[0m\u001b[0;34m,\u001b[0m\u001b[0;34m\u001b[0m\u001b[0;34m\u001b[0m\u001b[0m\n\u001b[0m\u001b[1;32m     82\u001b[0m     )\n\u001b[1;32m     83\u001b[0m     \u001b[0;32mreturn\u001b[0m \u001b[0mop\u001b[0m\u001b[0;34m.\u001b[0m\u001b[0mget_result\u001b[0m\u001b[0;34m(\u001b[0m\u001b[0;34m)\u001b[0m\u001b[0;34m\u001b[0m\u001b[0;34m\u001b[0m\u001b[0m\n",
      "\u001b[0;32m~/miniconda3/envs/music_classification/lib/python3.7/site-packages/pandas/core/reshape/merge.py\u001b[0m in \u001b[0;36m__init__\u001b[0;34m(self, left, right, how, on, left_on, right_on, axis, left_index, right_index, sort, suffixes, copy, indicator, validate)\u001b[0m\n\u001b[1;32m    624\u001b[0m             \u001b[0mself\u001b[0m\u001b[0;34m.\u001b[0m\u001b[0mright_join_keys\u001b[0m\u001b[0;34m,\u001b[0m\u001b[0;34m\u001b[0m\u001b[0;34m\u001b[0m\u001b[0m\n\u001b[1;32m    625\u001b[0m             \u001b[0mself\u001b[0m\u001b[0;34m.\u001b[0m\u001b[0mjoin_names\u001b[0m\u001b[0;34m,\u001b[0m\u001b[0;34m\u001b[0m\u001b[0;34m\u001b[0m\u001b[0m\n\u001b[0;32m--> 626\u001b[0;31m         ) = self._get_merge_keys()\n\u001b[0m\u001b[1;32m    627\u001b[0m \u001b[0;34m\u001b[0m\u001b[0m\n\u001b[1;32m    628\u001b[0m         \u001b[0;31m# validate the merge keys dtypes. We may need to coerce\u001b[0m\u001b[0;34m\u001b[0m\u001b[0;34m\u001b[0m\u001b[0;34m\u001b[0m\u001b[0m\n",
      "\u001b[0;32m~/miniconda3/envs/music_classification/lib/python3.7/site-packages/pandas/core/reshape/merge.py\u001b[0m in \u001b[0;36m_get_merge_keys\u001b[0;34m(self)\u001b[0m\n\u001b[1;32m    986\u001b[0m                         \u001b[0mright_keys\u001b[0m\u001b[0;34m.\u001b[0m\u001b[0mappend\u001b[0m\u001b[0;34m(\u001b[0m\u001b[0mrk\u001b[0m\u001b[0;34m)\u001b[0m\u001b[0;34m\u001b[0m\u001b[0;34m\u001b[0m\u001b[0m\n\u001b[1;32m    987\u001b[0m                     \u001b[0;32mif\u001b[0m \u001b[0mlk\u001b[0m \u001b[0;32mis\u001b[0m \u001b[0;32mnot\u001b[0m \u001b[0;32mNone\u001b[0m\u001b[0;34m:\u001b[0m\u001b[0;34m\u001b[0m\u001b[0;34m\u001b[0m\u001b[0m\n\u001b[0;32m--> 988\u001b[0;31m                         \u001b[0mleft_keys\u001b[0m\u001b[0;34m.\u001b[0m\u001b[0mappend\u001b[0m\u001b[0;34m(\u001b[0m\u001b[0mleft\u001b[0m\u001b[0;34m.\u001b[0m\u001b[0m_get_label_or_level_values\u001b[0m\u001b[0;34m(\u001b[0m\u001b[0mlk\u001b[0m\u001b[0;34m)\u001b[0m\u001b[0;34m)\u001b[0m\u001b[0;34m\u001b[0m\u001b[0;34m\u001b[0m\u001b[0m\n\u001b[0m\u001b[1;32m    989\u001b[0m                         \u001b[0mjoin_names\u001b[0m\u001b[0;34m.\u001b[0m\u001b[0mappend\u001b[0m\u001b[0;34m(\u001b[0m\u001b[0mlk\u001b[0m\u001b[0;34m)\u001b[0m\u001b[0;34m\u001b[0m\u001b[0;34m\u001b[0m\u001b[0m\n\u001b[1;32m    990\u001b[0m                     \u001b[0;32melse\u001b[0m\u001b[0;34m:\u001b[0m\u001b[0;34m\u001b[0m\u001b[0;34m\u001b[0m\u001b[0m\n",
      "\u001b[0;32m~/miniconda3/envs/music_classification/lib/python3.7/site-packages/pandas/core/generic.py\u001b[0m in \u001b[0;36m_get_label_or_level_values\u001b[0;34m(self, key, axis)\u001b[0m\n\u001b[1;32m   1772\u001b[0m             \u001b[0mvalues\u001b[0m \u001b[0;34m=\u001b[0m \u001b[0mself\u001b[0m\u001b[0;34m.\u001b[0m\u001b[0maxes\u001b[0m\u001b[0;34m[\u001b[0m\u001b[0maxis\u001b[0m\u001b[0;34m]\u001b[0m\u001b[0;34m.\u001b[0m\u001b[0mget_level_values\u001b[0m\u001b[0;34m(\u001b[0m\u001b[0mkey\u001b[0m\u001b[0;34m)\u001b[0m\u001b[0;34m.\u001b[0m\u001b[0m_values\u001b[0m\u001b[0;34m\u001b[0m\u001b[0;34m\u001b[0m\u001b[0m\n\u001b[1;32m   1773\u001b[0m         \u001b[0;32melse\u001b[0m\u001b[0;34m:\u001b[0m\u001b[0;34m\u001b[0m\u001b[0;34m\u001b[0m\u001b[0m\n\u001b[0;32m-> 1774\u001b[0;31m             \u001b[0;32mraise\u001b[0m \u001b[0mKeyError\u001b[0m\u001b[0;34m(\u001b[0m\u001b[0mkey\u001b[0m\u001b[0;34m)\u001b[0m\u001b[0;34m\u001b[0m\u001b[0;34m\u001b[0m\u001b[0m\n\u001b[0m\u001b[1;32m   1775\u001b[0m \u001b[0;34m\u001b[0m\u001b[0m\n\u001b[1;32m   1776\u001b[0m         \u001b[0;31m# Check for duplicates\u001b[0m\u001b[0;34m\u001b[0m\u001b[0;34m\u001b[0m\u001b[0;34m\u001b[0m\u001b[0m\n",
      "\u001b[0;31mKeyError\u001b[0m: 'filename'"
     ]
    }
   ],
   "source": [
    "genre_level_acc = {'spectrogram':{},\n",
    "                      'mel_map': {}}\n",
    "\n",
    "for map_type in test:\n",
    "    for angle in test[map_type]:\n",
    "        filepath=git_root(\"evaluation\",\"evaluation_results\",\"results_{}_{}.csv\".format(map_type,angle))\n",
    "        df = pd.read_csv(filepath, index_col=0)\n",
    "        df_per_track = df.groupby('filename').sum()\n",
    "        df_per_track['pred'] = np.argmax(df_per_track[class_columns].values, axis=1)\n",
    "        df_result = df_per_track.merge(track_mapping, on='filename')\n",
    "        df_result['label'] = df_result['genre'].apply(lambda x: label_to_idx[x])\n",
    "        track_level_acc[map_type][angle] = accuracy_score(df_result['label'], df_result['pred'])\n"
   ]
  },
  {
   "cell_type": "code",
   "execution_count": null,
   "metadata": {},
   "outputs": [],
   "source": []
  }
 ],
 "metadata": {
  "kernelspec": {
   "display_name": "Python [conda env:music_classification]",
   "language": "python",
   "name": "conda-env-music_classification-py"
  },
  "language_info": {
   "codemirror_mode": {
    "name": "ipython",
    "version": 3
   },
   "file_extension": ".py",
   "mimetype": "text/x-python",
   "name": "python",
   "nbconvert_exporter": "python",
   "pygments_lexer": "ipython3",
   "version": "3.7.5"
  }
 },
 "nbformat": 4,
 "nbformat_minor": 2
}
