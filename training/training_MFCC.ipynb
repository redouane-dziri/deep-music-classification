{
 "cells": [
  {
   "cell_type": "markdown",
   "metadata": {},
   "source": [
    "# Training pipeline for MFCC (train + save)"
   ]
  },
  {
   "cell_type": "code",
   "execution_count": 20,
   "metadata": {},
   "outputs": [],
   "source": [
    "import sys\n",
    "import os\n",
    "from git_root import git_root\n",
    "\n",
    "import numpy as np\n",
    "import tensorflow as tf\n",
    "\n",
    "from tensorflow.keras.optimizers import Adam\n",
    "\n",
    "sys.path.append(git_root(\"utils\"))\n",
    "from utils import load_params\n",
    "\n",
    "from fetch_data import fetch_data_local\n",
    "from fetch_data import to_numpy_arrays, prepare_tf_dataset\n",
    "\n",
    "sys.path.append(git_root(\"models\"))\n",
    "from MFCC_model import setup_model\n",
    "\n",
    "from validation_utils import plot_history"
   ]
  },
  {
   "cell_type": "code",
   "execution_count": 21,
   "metadata": {},
   "outputs": [
    {
     "name": "stdout",
     "output_type": "stream",
     "text": [
      "2.0.0\n"
     ]
    }
   ],
   "source": [
    "print(tf.__version__)"
   ]
  },
  {
   "cell_type": "code",
   "execution_count": 22,
   "metadata": {},
   "outputs": [],
   "source": [
    "params = load_params()"
   ]
  },
  {
   "cell_type": "code",
   "execution_count": 23,
   "metadata": {},
   "outputs": [
    {
     "name": "stdout",
     "output_type": "stream",
     "text": [
      "Fetching: data_mfcc_train.json\n",
      "Fetching: data_mfcc_test.json\n"
     ]
    }
   ],
   "source": [
    "train = fetch_data_local(map_type=\"mfcc\", train=True)\n",
    "test = fetch_data_local(map_type=\"mfcc\", train=False)"
   ]
  },
  {
   "cell_type": "code",
   "execution_count": 24,
   "metadata": {},
   "outputs": [
    {
     "name": "stdout",
     "output_type": "stream",
     "text": [
      "train\n",
      "(900, 3)\n",
      "test\n",
      "(100, 3)\n"
     ]
    }
   ],
   "source": [
    "print(\"train\")\n",
    "print(train.shape)\n",
    "print(\"test\")\n",
    "print(test.shape)"
   ]
  },
  {
   "cell_type": "code",
   "execution_count": 25,
   "metadata": {},
   "outputs": [
    {
     "data": {
      "text/plain": [
       "(30, 40, 50)"
      ]
     },
     "execution_count": 25,
     "metadata": {},
     "output_type": "execute_result"
    }
   ],
   "source": [
    "np.array(train.loc[0,'maps']).shape"
   ]
  },
  {
   "cell_type": "code",
   "execution_count": 26,
   "metadata": {},
   "outputs": [
    {
     "data": {
      "text/plain": [
       "30"
      ]
     },
     "execution_count": 26,
     "metadata": {},
     "output_type": "execute_result"
    }
   ],
   "source": [
    "len(train.iloc[0, 1])"
   ]
  },
  {
   "cell_type": "code",
   "execution_count": 27,
   "metadata": {},
   "outputs": [],
   "source": [
    "train = to_numpy_arrays(train, mfcc=True)\n",
    "test = to_numpy_arrays(test, mfcc=True)"
   ]
  },
  {
   "cell_type": "code",
   "execution_count": 28,
   "metadata": {},
   "outputs": [
    {
     "name": "stdout",
     "output_type": "stream",
     "text": [
      "train\n",
      "900\n",
      "900\n",
      "test\n",
      "100\n",
      "100\n"
     ]
    }
   ],
   "source": [
    "print(\"train\")\n",
    "print(len(train[0]))\n",
    "print(len(train[1]))\n",
    "print(\"test\")\n",
    "print(len(test[0]))\n",
    "print(len(test[1]))"
   ]
  },
  {
   "cell_type": "code",
   "execution_count": 29,
   "metadata": {},
   "outputs": [],
   "source": [
    "train_sample_unstacked = []\n",
    "train_label_unstacked = []\n",
    "\n",
    "for j in range(len(train[0])):\n",
    "    train_sample_unstacked += [train[0][j][:,:,i].reshape(40,50,1) for i in range(train[0][0].shape[-1])]\n",
    "\n",
    "for i in range(len(train[1])):\n",
    "    train_label_unstacked += [train[1][i]]*(train[0][0].shape[-1])"
   ]
  },
  {
   "cell_type": "code",
   "execution_count": 30,
   "metadata": {},
   "outputs": [],
   "source": [
    "test_sample_unstacked = []\n",
    "test_label_unstacked = []\n",
    "\n",
    "for j in range(len(test[0])):\n",
    "    test_sample_unstacked += [test[0][j][:,:,i].reshape(40,50,1) for i in range(test[0][0].shape[-1])]\n",
    "\n",
    "for i in range(len(test[1])):\n",
    "    test_label_unstacked += [test[1][i]]*(test[0][0].shape[-1])"
   ]
  },
  {
   "cell_type": "code",
   "execution_count": 31,
   "metadata": {},
   "outputs": [],
   "source": [
    "train = prepare_tf_dataset(train_sample_unstacked, train_label_unstacked)\n",
    "test = prepare_tf_dataset(test_sample_unstacked, test_label_unstacked)"
   ]
  },
  {
   "cell_type": "code",
   "execution_count": 32,
   "metadata": {},
   "outputs": [
    {
     "name": "stdout",
     "output_type": "stream",
     "text": [
      "train\n",
      "(32, 40, 50, 1) (32,)\n",
      "test\n",
      "(32, 40, 50, 1) (32,)\n"
     ]
    }
   ],
   "source": [
    "tr_sample_batch, tr_label_batch = next(iter(train))\n",
    "te_sample_batch, te_label_batch = next(iter(test))\n",
    "print(\"train\")\n",
    "print(tr_sample_batch.shape, tr_label_batch.shape)\n",
    "print(\"test\")\n",
    "print(te_sample_batch.shape, te_label_batch.shape)"
   ]
  },
  {
   "cell_type": "code",
   "execution_count": 33,
   "metadata": {},
   "outputs": [
    {
     "name": "stdout",
     "output_type": "stream",
     "text": [
      "Model: \"sequential_1\"\n",
      "_________________________________________________________________\n",
      "Layer (type)                 Output Shape              Param #   \n",
      "=================================================================\n",
      "conv1 (Conv2D)               (None, 31, 41, 12)        1212      \n",
      "_________________________________________________________________\n",
      "pooling1 (AveragePooling2D)  (None, 7, 10, 12)         0         \n",
      "_________________________________________________________________\n",
      "affine (AffineScalar)        (None, 7, 10, 12)         2         \n",
      "_________________________________________________________________\n",
      "conv2 (Conv2D)               (None, 5, 8, 12)          1308      \n",
      "_________________________________________________________________\n",
      "pooling2 (GlobalAveragePooli (None, 12)                0         \n",
      "_________________________________________________________________\n",
      "dense (Dense)                (None, 10)                130       \n",
      "=================================================================\n",
      "Total params: 2,652\n",
      "Trainable params: 2,652\n",
      "Non-trainable params: 0\n",
      "_________________________________________________________________\n"
     ]
    }
   ],
   "source": [
    "#We load the model\n",
    "net = setup_model()\n",
    "net.summary()"
   ]
  },
  {
   "cell_type": "code",
   "execution_count": 34,
   "metadata": {},
   "outputs": [],
   "source": [
    "net.compile(\n",
    "    optimizer=Adam(learning_rate=1e-4),\n",
    "    loss='sparse_categorical_crossentropy',\n",
    "    metrics=['accuracy']\n",
    ")"
   ]
  },
  {
   "cell_type": "code",
   "execution_count": null,
   "metadata": {},
   "outputs": [
    {
     "name": "stdout",
     "output_type": "stream",
     "text": [
      "Epoch 1/250\n",
      "844/844 [==============================] - 22s 26ms/step - loss: 2.3060 - accuracy: 0.1737 - val_loss: 0.0000e+00 - val_accuracy: 0.0000e+00\n",
      "Epoch 2/250\n",
      "844/844 [==============================] - 19s 22ms/step - loss: 2.2723 - accuracy: 0.1499 - val_loss: 2.2483 - val_accuracy: 0.1473\n",
      "Epoch 3/250\n",
      "844/844 [==============================] - 19s 22ms/step - loss: 2.2551 - accuracy: 0.1322 - val_loss: 2.2371 - val_accuracy: 0.1433\n",
      "Epoch 4/250\n",
      "844/844 [==============================] - 18s 22ms/step - loss: 2.2529 - accuracy: 0.1210 - val_loss: 2.2316 - val_accuracy: 0.1493\n",
      "Epoch 5/250\n",
      "844/844 [==============================] - 18s 21ms/step - loss: 2.2433 - accuracy: 0.1244 - val_loss: 2.2337 - val_accuracy: 0.1470\n",
      "Epoch 6/250\n",
      "844/844 [==============================] - 18s 21ms/step - loss: 2.2394 - accuracy: 0.1278 - val_loss: 2.2332 - val_accuracy: 0.1417\n",
      "Epoch 7/250\n",
      "844/844 [==============================] - 18s 21ms/step - loss: 2.2389 - accuracy: 0.1176 - val_loss: 2.2243 - val_accuracy: 0.1500\n",
      "Epoch 8/250\n",
      "844/844 [==============================] - 18s 21ms/step - loss: 2.2290 - accuracy: 0.1176 - val_loss: 2.2199 - val_accuracy: 0.1530\n",
      "Epoch 9/250\n",
      "844/844 [==============================] - 18s 21ms/step - loss: 2.2252 - accuracy: 0.1420 - val_loss: 2.2202 - val_accuracy: 0.1573\n",
      "Epoch 10/250\n",
      "844/844 [==============================] - 18s 21ms/step - loss: 2.2291 - accuracy: 0.1414 - val_loss: 2.2127 - val_accuracy: 0.1613\n",
      "Epoch 11/250\n",
      "844/844 [==============================] - 18s 21ms/step - loss: 2.2242 - accuracy: 0.1417 - val_loss: 2.2061 - val_accuracy: 0.1753\n",
      "Epoch 12/250\n",
      "844/844 [==============================] - 18s 21ms/step - loss: 2.2175 - accuracy: 0.1420 - val_loss: 2.2032 - val_accuracy: 0.1820\n",
      "Epoch 13/250\n",
      "844/844 [==============================] - 18s 21ms/step - loss: 2.2130 - accuracy: 0.1457 - val_loss: 2.1980 - val_accuracy: 0.1803\n",
      "Epoch 14/250\n",
      "844/844 [==============================] - 18s 21ms/step - loss: 2.2054 - accuracy: 0.1502 - val_loss: 2.1901 - val_accuracy: 0.1840\n",
      "Epoch 15/250\n",
      "844/844 [==============================] - 20s 24ms/step - loss: 2.1989 - accuracy: 0.1634 - val_loss: 2.1848 - val_accuracy: 0.1773\n",
      "Epoch 16/250\n",
      "844/844 [==============================] - 19s 22ms/step - loss: 2.1979 - accuracy: 0.1656 - val_loss: 2.1781 - val_accuracy: 0.1853\n",
      "Epoch 17/250\n",
      "844/844 [==============================] - 19s 22ms/step - loss: 2.1897 - accuracy: 0.1756 - val_loss: 2.1720 - val_accuracy: 0.1920\n",
      "Epoch 18/250\n",
      "844/844 [==============================] - 21s 25ms/step - loss: 2.1815 - accuracy: 0.1918 - val_loss: 2.1732 - val_accuracy: 0.1960\n",
      "Epoch 19/250\n",
      "844/844 [==============================] - 19s 23ms/step - loss: 2.1796 - accuracy: 0.1924 - val_loss: 2.1716 - val_accuracy: 0.1957\n",
      "Epoch 20/250\n",
      "844/844 [==============================] - 19s 23ms/step - loss: 2.1756 - accuracy: 0.2081 - val_loss: 2.1729 - val_accuracy: 0.1947\n",
      "Epoch 21/250\n",
      "844/844 [==============================] - 18s 21ms/step - loss: 2.1760 - accuracy: 0.2130 - val_loss: 2.1712 - val_accuracy: 0.1987\n",
      "Epoch 22/250\n",
      "844/844 [==============================] - 19s 22ms/step - loss: 2.1771 - accuracy: 0.2109 - val_loss: 2.1637 - val_accuracy: 0.1993\n",
      "Epoch 23/250\n",
      "406/844 [=============>................] - ETA: 9s - loss: 2.2208 - accuracy: 0.1415"
     ]
    }
   ],
   "source": [
    "# Since the dataset already takes care of batching,\n",
    "# we don't pass a `batch_size` argument.\n",
    "history = net.fit(train, epochs=250, validation_data=test)"
   ]
  },
  {
   "cell_type": "code",
   "execution_count": 17,
   "metadata": {},
   "outputs": [
    {
     "data": {
      "image/png": "[encoded data removed]",
      "text/plain": [
       "<Figure size 432x288 with 1 Axes>"
      ]
     },
     "metadata": {
      "needs_background": "light"
     },
     "output_type": "display_data"
    },
    {
     "data": {
      "image/png": "[encoded data removed]",
      "text/plain": [
       "<Figure size 432x288 with 1 Axes>"
      ]
     },
     "metadata": {
      "needs_background": "light"
     },
     "output_type": "display_data"
    }
   ],
   "source": [
    "plot_history(history)"
   ]
  },
  {
   "cell_type": "code",
   "execution_count": 18,
   "metadata": {},
   "outputs": [
    {
     "name": "stdout",
     "output_type": "stream",
     "text": [
      "Final validation accuracy is: 0.234\n"
     ]
    }
   ],
   "source": [
    "print(f\"Final validation accuracy is: {history.history['val_accuracy'][-1]:.3f}\")"
   ]
  },
  {
   "cell_type": "code",
   "execution_count": 19,
   "metadata": {},
   "outputs": [],
   "source": [
    "file_path = git_root(\"models\", \"saved_models\", \"mfcc.h5\")\n",
    "net.save(file_path)"
   ]
  },
  {
   "cell_type": "code",
   "execution_count": null,
   "metadata": {},
   "outputs": [],
   "source": []
  }
 ],
 "metadata": {
  "kernelspec": {
   "display_name": "Python [conda env:emotion_detection]",
   "language": "python",
   "name": "conda-env-emotion_detection-py"
  },
  "language_info": {
   "codemirror_mode": {
    "name": "ipython",
    "version": 3
   },
   "file_extension": ".py",
   "mimetype": "text/x-python",
   "name": "python",
   "nbconvert_exporter": "python",
   "pygments_lexer": "ipython3",
   "version": "3.7.4"
  }
 },
 "nbformat": 4,
 "nbformat_minor": 4
}
