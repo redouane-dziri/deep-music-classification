{
 "cells": [
  {
   "cell_type": "code",
   "execution_count": 67,
   "metadata": {},
   "outputs": [
    {
     "data": {
      "text/plain": [
       "0    [[blues.00006.wav, [[694, 572, 485, 406, 295, ...\n",
       "Name: train, dtype: object"
      ]
     },
     "execution_count": 67,
     "metadata": {},
     "output_type": "execute_result"
    }
   ],
   "source": [
    "import pandas as pd\n",
    "from git_root import git_root\n",
    "import os\n",
    "\n",
    "\n",
    "df = pd.read_json(os.path.join(git_root(),\"data\",\"pipeline_output\",\"test_spectrogram.json\"))\n",
    "df['train'].head()"
   ]
  },
  {
   "cell_type": "code",
   "execution_count": 68,
   "metadata": {},
   "outputs": [
    {
     "name": "stdout",
     "output_type": "stream",
     "text": [
      "{'metal', 'reggae', 'disco', 'pop', 'country', 'blues', 'rock', 'classical', 'jazz', 'hiphop'}\n"
     ]
    }
   ],
   "source": [
    "label_names = set([item[3] for item in df['train'][0]])\n",
    "print(label_names)"
   ]
  },
  {
   "cell_type": "code",
   "execution_count": 69,
   "metadata": {},
   "outputs": [],
   "source": [
    "label_to_idx = dict((name, index) for index, name in enumerate(label_names))"
   ]
  },
  {
   "cell_type": "code",
   "execution_count": 70,
   "metadata": {},
   "outputs": [],
   "source": [
    "import numpy as np\n",
    "\n",
    "samples = []\n",
    "labels = []\n",
    "for row in df['train'][0]:\n",
    "    samples.append(np.array(row[1]))\n",
    "    labels.append(label_to_idx[row[3]])"
   ]
  },
  {
   "cell_type": "code",
   "execution_count": 71,
   "metadata": {},
   "outputs": [
    {
     "data": {
      "text/plain": [
       "2520"
      ]
     },
     "execution_count": 71,
     "metadata": {},
     "output_type": "execute_result"
    }
   ],
   "source": [
    "len(samples)"
   ]
  },
  {
   "cell_type": "code",
   "execution_count": 72,
   "metadata": {},
   "outputs": [],
   "source": [
    "import tensorflow as tf\n",
    "dataset = tf.data.Dataset.from_tensor_slices((samples, labels))\n",
    "dataset = dataset.shuffle(128).batch(14)\n",
    "dataset = dataset.prefetch(buffer_size=tf.data.experimental.AUTOTUNE)"
   ]
  },
  {
   "cell_type": "code",
   "execution_count": 73,
   "metadata": {},
   "outputs": [
    {
     "name": "stdout",
     "output_type": "stream",
     "text": [
      "Model: \"sequential_2\"\n",
      "_________________________________________________________________\n",
      "Layer (type)                 Output Shape              Param #   \n",
      "=================================================================\n",
      "conv2d_4 (Conv2D)            (None, 10, 10, 12)        444       \n",
      "_________________________________________________________________\n",
      "average_pooling2d_2 (Average (None, 5, 5, 12)          0         \n",
      "_________________________________________________________________\n",
      "conv2d_5 (Conv2D)            (None, 3, 3, 6)           654       \n",
      "_________________________________________________________________\n",
      "global_average_pooling2d_2 ( (None, 6)                 0         \n",
      "_________________________________________________________________\n",
      "dense_2 (Dense)              (None, 10)                70        \n",
      "=================================================================\n",
      "Total params: 1,168\n",
      "Trainable params: 1,168\n",
      "Non-trainable params: 0\n",
      "_________________________________________________________________\n"
     ]
    }
   ],
   "source": [
    "from tensorflow.keras.layers import Conv2D, GlobalAveragePooling2D, AveragePooling2D, Dense\n",
    "from tensorflow.keras import Sequential\n",
    "\n",
    "model = Sequential()\n",
    "model.add(Conv2D(12,(6,6),activation='tanh',input_shape=(15,15,1)))\n",
    "model.add(AveragePooling2D())\n",
    "model.add(Conv2D(6,(3,3),activation='tanh'))\n",
    "model.add(GlobalAveragePooling2D())\n",
    "model.add(Dense(10, activation='softmax'))\n",
    "\n",
    "model.summary()"
   ]
  },
  {
   "cell_type": "code",
   "execution_count": 74,
   "metadata": {},
   "outputs": [],
   "source": [
    "model.compile(optimizer='adam',\n",
    "              loss='sparse_categorical_crossentropy',\n",
    "              metrics=['accuracy'])"
   ]
  },
  {
   "cell_type": "code",
   "execution_count": 75,
   "metadata": {},
   "outputs": [
    {
     "name": "stdout",
     "output_type": "stream",
     "text": [
      "(14, 15, 15)\n",
      "(14,)\n"
     ]
    }
   ],
   "source": [
    "sample_batch, label_batch = next(iter(dataset))\n",
    "print(sample_batch.shape)\n",
    "print(label_batch.shape)"
   ]
  },
  {
   "cell_type": "code",
   "execution_count": 76,
   "metadata": {},
   "outputs": [
    {
     "name": "stdout",
     "output_type": "stream",
     "text": [
      "Loss: 2.1887729167938232, Accuracy: 0.0\n",
      "Loss: 2.064544916152954, Accuracy: 0.0\n",
      "Loss: 1.9588677883148193, Accuracy: 0.0\n",
      "Loss: 1.8628969192504883, Accuracy: 0.1428571492433548\n",
      "Loss: 1.7887927293777466, Accuracy: 0.2857142984867096\n",
      "Loss: 1.7169015407562256, Accuracy: 0.5\n",
      "Loss: 1.6525064706802368, Accuracy: 0.6428571343421936\n",
      "Loss: 1.595249891281128, Accuracy: 0.7857142686843872\n",
      "Loss: 1.5434242486953735, Accuracy: 1.0\n",
      "Loss: 1.5007869005203247, Accuracy: 1.0\n",
      "Loss: 1.4609030485153198, Accuracy: 1.0\n",
      "Loss: 1.4252488613128662, Accuracy: 1.0\n",
      "Loss: 1.3903831243515015, Accuracy: 1.0\n",
      "Loss: 1.3601140975952148, Accuracy: 1.0\n",
      "Loss: 1.3324936628341675, Accuracy: 1.0\n",
      "Loss: 1.3081656694412231, Accuracy: 1.0\n",
      "Loss: 1.2847617864608765, Accuracy: 1.0\n",
      "Loss: 1.2641582489013672, Accuracy: 1.0\n",
      "Loss: 1.244765281677246, Accuracy: 1.0\n",
      "Loss: 1.2271479368209839, Accuracy: 1.0\n",
      "Loss: 1.2104800939559937, Accuracy: 1.0\n",
      "Loss: 1.1952028274536133, Accuracy: 1.0\n",
      "Loss: 1.181038498878479, Accuracy: 1.0\n",
      "Loss: 1.1671264171600342, Accuracy: 1.0\n",
      "Loss: 1.1537009477615356, Accuracy: 1.0\n",
      "Loss: 1.1399222612380981, Accuracy: 1.0\n",
      "Loss: 1.1271051168441772, Accuracy: 1.0\n",
      "Loss: 1.1149150133132935, Accuracy: 1.0\n",
      "Loss: 1.1031051874160767, Accuracy: 1.0\n",
      "Loss: 1.0915545225143433, Accuracy: 1.0\n",
      "Loss: 1.0802711248397827, Accuracy: 1.0\n",
      "Loss: 1.0692516565322876, Accuracy: 1.0\n",
      "Loss: 1.058459997177124, Accuracy: 1.0\n",
      "Loss: 1.047855019569397, Accuracy: 1.0\n",
      "Loss: 1.037359356880188, Accuracy: 1.0\n",
      "Loss: 1.027035117149353, Accuracy: 1.0\n",
      "Loss: 1.0169312953948975, Accuracy: 1.0\n",
      "Loss: 1.0069483518600464, Accuracy: 1.0\n",
      "Loss: 0.9971005320549011, Accuracy: 1.0\n",
      "Loss: 0.9873960614204407, Accuracy: 1.0\n",
      "Loss: 0.9777024388313293, Accuracy: 1.0\n",
      "Loss: 0.9681611061096191, Accuracy: 1.0\n",
      "Loss: 0.9587467908859253, Accuracy: 1.0\n",
      "Loss: 0.9494909644126892, Accuracy: 1.0\n",
      "Loss: 0.9403610825538635, Accuracy: 1.0\n",
      "Loss: 0.9313275218009949, Accuracy: 1.0\n",
      "Loss: 0.9223808646202087, Accuracy: 1.0\n",
      "Loss: 0.9135258793830872, Accuracy: 1.0\n",
      "Loss: 0.9047550559043884, Accuracy: 1.0\n",
      "Loss: 0.8960830569267273, Accuracy: 1.0\n",
      "Loss: 0.8875075578689575, Accuracy: 1.0\n",
      "Loss: 0.8790103197097778, Accuracy: 1.0\n",
      "Loss: 0.8706175684928894, Accuracy: 1.0\n",
      "Loss: 0.8623343110084534, Accuracy: 1.0\n",
      "Loss: 0.8541355133056641, Accuracy: 1.0\n",
      "Loss: 0.8460270762443542, Accuracy: 1.0\n",
      "Loss: 0.8380141854286194, Accuracy: 1.0\n",
      "Loss: 0.8300899863243103, Accuracy: 1.0\n",
      "Loss: 0.8222498297691345, Accuracy: 1.0\n",
      "Loss: 0.8144907355308533, Accuracy: 1.0\n",
      "Loss: 0.8068041801452637, Accuracy: 1.0\n",
      "Loss: 0.7991955876350403, Accuracy: 1.0\n",
      "Loss: 0.7916550040245056, Accuracy: 1.0\n",
      "Loss: 0.7841997146606445, Accuracy: 1.0\n",
      "Loss: 0.7768468856811523, Accuracy: 1.0\n",
      "Loss: 0.7695803046226501, Accuracy: 1.0\n",
      "Loss: 0.76237952709198, Accuracy: 1.0\n",
      "Loss: 0.7552624344825745, Accuracy: 1.0\n",
      "Loss: 0.7482085227966309, Accuracy: 1.0\n",
      "Loss: 0.7412381172180176, Accuracy: 1.0\n",
      "Loss: 0.734345018863678, Accuracy: 1.0\n",
      "Loss: 0.727515697479248, Accuracy: 1.0\n",
      "Loss: 0.7207692265510559, Accuracy: 1.0\n",
      "Loss: 0.7140951752662659, Accuracy: 1.0\n",
      "Loss: 0.7074961066246033, Accuracy: 1.0\n",
      "Loss: 0.7009763717651367, Accuracy: 1.0\n",
      "Loss: 0.694527268409729, Accuracy: 1.0\n",
      "Loss: 0.6881462931632996, Accuracy: 1.0\n",
      "Loss: 0.6818291544914246, Accuracy: 1.0\n",
      "Loss: 0.675578773021698, Accuracy: 1.0\n",
      "Loss: 0.6693991422653198, Accuracy: 1.0\n",
      "Loss: 0.663288414478302, Accuracy: 1.0\n",
      "Loss: 0.6572440266609192, Accuracy: 1.0\n",
      "Loss: 0.6512638926506042, Accuracy: 1.0\n",
      "Loss: 0.6453455090522766, Accuracy: 1.0\n",
      "Loss: 0.6394907832145691, Accuracy: 1.0\n",
      "Loss: 0.6337010264396667, Accuracy: 1.0\n",
      "Loss: 0.6279768347740173, Accuracy: 1.0\n",
      "Loss: 0.6223163604736328, Accuracy: 1.0\n",
      "Loss: 0.6167181134223938, Accuracy: 1.0\n",
      "Loss: 0.6111807823181152, Accuracy: 1.0\n",
      "Loss: 0.6057037711143494, Accuracy: 1.0\n",
      "Loss: 0.6002864837646484, Accuracy: 1.0\n",
      "Loss: 0.5949282646179199, Accuracy: 1.0\n",
      "Loss: 0.5896283388137817, Accuracy: 1.0\n",
      "Loss: 0.5843863487243652, Accuracy: 1.0\n",
      "Loss: 0.5792012810707092, Accuracy: 1.0\n",
      "Loss: 0.5740730166435242, Accuracy: 1.0\n",
      "Loss: 0.5690005421638489, Accuracy: 1.0\n",
      "Loss: 0.5639830827713013, Accuracy: 1.0\n"
     ]
    }
   ],
   "source": [
    "for i in range(100):\n",
    "    metrics = model.train_on_batch(tf.reshape(sample_batch,[14,15,15,1]), label_batch)\n",
    "    print(\"Loss: {}, Accuracy: {}\".format(metrics[0], metrics[1]))"
   ]
  },
  {
   "cell_type": "code",
   "execution_count": 88,
   "metadata": {},
   "outputs": [
    {
     "ename": "AttributeError",
     "evalue": "'tensorflow.python.framework.ops.EagerTensor' object has no attribute 'reshape'",
     "output_type": "error",
     "traceback": [
      "\u001b[0;31m---------------------------------------------------------------------------\u001b[0m",
      "\u001b[0;31mAttributeError\u001b[0m                            Traceback (most recent call last)",
      "\u001b[0;32m<ipython-input-88-41cddfbfe6ee>\u001b[0m in \u001b[0;36m<module>\u001b[0;34m\u001b[0m\n\u001b[1;32m      1\u001b[0m \u001b[0msample_batch\u001b[0m\u001b[0;34m,\u001b[0m \u001b[0mlabel_batch\u001b[0m \u001b[0;34m=\u001b[0m \u001b[0mnext\u001b[0m\u001b[0;34m(\u001b[0m\u001b[0miter\u001b[0m\u001b[0;34m(\u001b[0m\u001b[0mdataset\u001b[0m\u001b[0;34m)\u001b[0m\u001b[0;34m)\u001b[0m\u001b[0;34m\u001b[0m\u001b[0;34m\u001b[0m\u001b[0m\n\u001b[0;32m----> 2\u001b[0;31m \u001b[0mprint\u001b[0m\u001b[0;34m(\u001b[0m\u001b[0msample_batch\u001b[0m\u001b[0;34m.\u001b[0m\u001b[0mreshape\u001b[0m\u001b[0;34m(\u001b[0m\u001b[0;36m256\u001b[0m\u001b[0;34m,\u001b[0m\u001b[0;36m256\u001b[0m\u001b[0;34m,\u001b[0m\u001b[0;36m1\u001b[0m\u001b[0;34m,\u001b[0m\u001b[0;36m14\u001b[0m\u001b[0;34m)\u001b[0m\u001b[0;34m)\u001b[0m\u001b[0;34m\u001b[0m\u001b[0;34m\u001b[0m\u001b[0m\n\u001b[0m",
      "\u001b[0;31mAttributeError\u001b[0m: 'tensorflow.python.framework.ops.EagerTensor' object has no attribute 'reshape'"
     ]
    }
   ],
   "source": [
    "sample_batch, label_batch = next(iter(dataset))\n",
    "print(sample_batch.reshape(256,256,1,14))"
   ]
  },
  {
   "cell_type": "code",
   "execution_count": 89,
   "metadata": {},
   "outputs": [
    {
     "data": {
      "text/plain": [
       "<tf.Tensor: id=2946, shape=(256, 256, 1, 14), dtype=int32, numpy=\n",
       "array([[[[ 0,  0,  0, ...,  0,  0,  0]],\n",
       "\n",
       "        [[ 0,  0,  0, ...,  0,  0,  0]],\n",
       "\n",
       "        [[ 0,  0,  0, ...,  0,  0,  0]],\n",
       "\n",
       "        ...,\n",
       "\n",
       "        [[ 0,  0,  0, ...,  0,  0,  0]],\n",
       "\n",
       "        [[ 0,  0,  0, ...,  0,  0,  0]],\n",
       "\n",
       "        [[ 0,  0,  0, ...,  0,  0,  0]]],\n",
       "\n",
       "\n",
       "       [[[ 0,  0,  0, ..., 13, 14, 24]],\n",
       "\n",
       "        [[22,  3,  0, ...,  0,  0,  0]],\n",
       "\n",
       "        [[ 0,  0,  0, ...,  0,  0,  0]],\n",
       "\n",
       "        ...,\n",
       "\n",
       "        [[ 0,  0,  0, ...,  0,  0,  0]],\n",
       "\n",
       "        [[ 0,  0,  0, ...,  0,  0,  0]],\n",
       "\n",
       "        [[ 0,  0,  0, ...,  0,  0,  0]]],\n",
       "\n",
       "\n",
       "       [[[ 0,  0,  0, ...,  0,  0,  0]],\n",
       "\n",
       "        [[ 0,  0,  0, ...,  0,  0,  0]],\n",
       "\n",
       "        [[ 0,  0,  0, ...,  0,  0,  0]],\n",
       "\n",
       "        ...,\n",
       "\n",
       "        [[ 0,  0,  0, ...,  0,  0,  0]],\n",
       "\n",
       "        [[ 0,  0,  0, ...,  0,  0,  0]],\n",
       "\n",
       "        [[ 0,  0,  0, ...,  0,  0,  0]]],\n",
       "\n",
       "\n",
       "       ...,\n",
       "\n",
       "\n",
       "       [[[ 0,  0,  0, ...,  0,  0,  0]],\n",
       "\n",
       "        [[ 0,  0,  0, ...,  0,  0,  0]],\n",
       "\n",
       "        [[ 0,  0,  0, ...,  0,  0,  0]],\n",
       "\n",
       "        ...,\n",
       "\n",
       "        [[ 0,  0,  0, ...,  0,  0,  0]],\n",
       "\n",
       "        [[ 0,  0,  0, ...,  0,  0,  0]],\n",
       "\n",
       "        [[ 0,  0,  0, ...,  0,  0,  0]]],\n",
       "\n",
       "\n",
       "       [[[ 0,  0,  0, ...,  0,  0,  0]],\n",
       "\n",
       "        [[ 0,  0,  0, ...,  0,  0,  0]],\n",
       "\n",
       "        [[ 0,  0,  0, ...,  0,  0,  0]],\n",
       "\n",
       "        ...,\n",
       "\n",
       "        [[ 0,  0,  0, ...,  0,  0,  0]],\n",
       "\n",
       "        [[ 0,  0,  0, ...,  0,  0,  0]],\n",
       "\n",
       "        [[ 0,  0,  0, ...,  0,  0,  0]]],\n",
       "\n",
       "\n",
       "       [[[ 0,  0,  0, ...,  0,  0,  0]],\n",
       "\n",
       "        [[ 0,  0,  0, ...,  0,  0,  0]],\n",
       "\n",
       "        [[ 0,  0,  0, ...,  0,  0,  0]],\n",
       "\n",
       "        ...,\n",
       "\n",
       "        [[ 0,  0,  0, ...,  0,  0,  0]],\n",
       "\n",
       "        [[ 0,  0,  0, ...,  0,  0,  0]],\n",
       "\n",
       "        [[ 0,  0,  0, ...,  0,  0,  0]]]], dtype=int32)>"
      ]
     },
     "execution_count": 89,
     "metadata": {},
     "output_type": "execute_result"
    }
   ],
   "source": [
    "tf.reshape(sample_batch,[256,256,1,14])"
   ]
  },
  {
   "cell_type": "code",
   "execution_count": null,
   "metadata": {},
   "outputs": [],
   "source": []
  }
 ],
 "metadata": {
  "kernelspec": {
   "display_name": "Python [conda env:music_classification]",
   "language": "python",
   "name": "conda-env-music_classification-py"
  },
  "language_info": {
   "codemirror_mode": {
    "name": "ipython",
    "version": 3
   },
   "file_extension": ".py",
   "mimetype": "text/x-python",
   "name": "python",
   "nbconvert_exporter": "python",
   "pygments_lexer": "ipython3",
   "version": "3.7.5"
  }
 },
 "nbformat": 4,
 "nbformat_minor": 2
}
