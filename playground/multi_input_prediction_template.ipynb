{
 "cells": [
  {
   "cell_type": "code",
   "execution_count": 18,
   "metadata": {},
   "outputs": [],
   "source": [
    "import tensorflow.keras as keras\n",
    "from tensorflow.keras import layers\n",
    "\n",
    "input_dim = 15\n",
    "\n",
    "inputs_0 = keras.Input(shape=(input_dim, input_dim, 1))\n",
    "inputs_45 = keras.Input(shape=(input_dim, input_dim, 1))\n",
    "inputs_90 = keras.Input(shape=(input_dim, input_dim, 1))\n",
    "inputs_135 = keras.Input(shape=(input_dim, input_dim, 1))\n",
    "\n",
    "x0 = layers.Conv2D(\n",
    "        12, (6, 6), activation=\"tanh\", name=\"conv1_0\"\n",
    "    )(inputs_0)\n",
    "x0 = layers.GlobalAveragePooling2D(name=\"pooling2_0\")(x0)\n",
    "\n",
    "x45 = layers.Conv2D(\n",
    "        12, (6, 6), activation=\"tanh\", name=\"conv1_45\"\n",
    "    )(inputs_45)\n",
    "x45 = layers.GlobalAveragePooling2D(name=\"pooling2_45\")(x45)\n",
    "\n",
    "x90 = layers.Conv2D(\n",
    "        12, (6, 6), activation=\"tanh\", name=\"conv1_90\"\n",
    "    )(inputs_90)\n",
    "x90 = layers.GlobalAveragePooling2D(name=\"pooling2_90\")(x90)\n",
    "\n",
    "x135 = layers.Conv2D(\n",
    "        12, (6, 6), activation=\"tanh\", name=\"conv1_135\"\n",
    "    )(inputs_135)\n",
    "x135 = layers.GlobalAveragePooling2D(name=\"pooling2_135\")(x135)\n",
    "\n",
    "concatenated = layers.concatenate([x0, x45, x90, x135])\n",
    "out = layers.Dense(10, activation=\"softmax\", name=\"dense\")(\n",
    "        concatenated\n",
    "    )\n",
    "\n",
    "model = keras.Model(\n",
    "        inputs=[inputs_0, inputs_45, inputs_90, inputs_135], outputs=out\n",
    "    )"
   ]
  },
  {
   "cell_type": "code",
   "execution_count": 19,
   "metadata": {},
   "outputs": [],
   "source": [
    "model.compile(optimizer='adam', loss='sparse_categorical_crossentropy', metrics=['accuracy'])"
   ]
  },
  {
   "cell_type": "code",
   "execution_count": 20,
   "metadata": {},
   "outputs": [],
   "source": [
    "import numpy as np\n",
    "\n",
    "x = np.random.uniform(0,1,(32,15,15,1))\n",
    "y = np.random.uniform(0,1,(32))"
   ]
  },
  {
   "cell_type": "code",
   "execution_count": 21,
   "metadata": {},
   "outputs": [],
   "source": [
    "import tensorflow as tf\n",
    "\n",
    "train_ds = tf.data.Dataset.from_tensor_slices(((x,x,x,x),y)).batch(32)"
   ]
  },
  {
   "cell_type": "code",
   "execution_count": 22,
   "metadata": {},
   "outputs": [
    {
     "name": "stdout",
     "output_type": "stream",
     "text": [
      "<BatchDataset shapes: (((None, 15, 15, 1), (None, 15, 15, 1), (None, 15, 15, 1), (None, 15, 15, 1)), (None,)), types: ((tf.float64, tf.float64, tf.float64, tf.float64), tf.float64)>\n"
     ]
    }
   ],
   "source": [
    "print(train_ds)"
   ]
  },
  {
   "cell_type": "code",
   "execution_count": 23,
   "metadata": {},
   "outputs": [
    {
     "name": "stdout",
     "output_type": "stream",
     "text": [
      "1/1 [==============================] - 2s 2s/step - loss: 2.1479 - accuracy: 0.0000e+00\n"
     ]
    },
    {
     "data": {
      "text/plain": [
       "<tensorflow.python.keras.callbacks.History at 0x64c22cb90>"
      ]
     },
     "execution_count": 23,
     "metadata": {},
     "output_type": "execute_result"
    }
   ],
   "source": [
    "#Having a dataset as input works for fit\n",
    "model.fit(train_ds)"
   ]
  },
  {
   "cell_type": "code",
   "execution_count": 24,
   "metadata": {},
   "outputs": [],
   "source": [
    "#But this does not work\n",
    "predict_ds = tf.data.Dataset.from_tensor_slices(((x,x,x,x))).batch(32)"
   ]
  },
  {
   "cell_type": "code",
   "execution_count": 25,
   "metadata": {},
   "outputs": [],
   "source": [
    "#So you have to make the input a list of numpy arrays\n",
    "preds = model.predict([x,x,x,x])"
   ]
  }
 ],
 "metadata": {
  "kernelspec": {
   "display_name": "Python [conda env:music_classification]",
   "language": "python",
   "name": "conda-env-music_classification-py"
  },
  "language_info": {
   "codemirror_mode": {
    "name": "ipython",
    "version": 3
   },
   "file_extension": ".py",
   "mimetype": "text/x-python",
   "name": "python",
   "nbconvert_exporter": "python",
   "pygments_lexer": "ipython3",
   "version": "3.7.5"
  }
 },
 "nbformat": 4,
 "nbformat_minor": 2
}
